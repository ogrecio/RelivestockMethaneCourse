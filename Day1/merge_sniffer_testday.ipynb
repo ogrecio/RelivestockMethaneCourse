{
 "cells": [
  {
   "cell_type": "code",
   "execution_count": null,
   "id": "fccf9dd0-5d1c-4cc1-9193-fb6fe914bf57",
   "metadata": {
    "vscode": {
     "languageId": "r"
    }
   },
   "outputs": [],
   "source": [
    "# Script methane data management\n",
    "library(data.table)\n",
    "library(dplyr)\n",
    "library(plyr)\n",
    "library(tidyr)\n",
    "library(lubridate)\n",
    "library(ggplot2)\n"
   ]
  },
  {
   "cell_type": "code",
   "execution_count": null,
   "id": "759b5661-d78e-4682-a739-911895c22d49",
   "metadata": {
    "scrolled": true,
    "vscode": {
     "languageId": "r"
    }
   },
   "outputs": [],
   "source": [
    "# Set the working directory where the files are located\n",
    "#setwd(\"../data\")"
   ]
  },
  {
   "cell_type": "code",
   "execution_count": null,
   "id": "42ff7bdd-872c-494c-9a74-cfe028308338",
   "metadata": {
    "vscode": {
     "languageId": "r"
    }
   },
   "outputs": [],
   "source": [
    "# Read the sniffer output\n",
    "bd=read.table(\"output_methane.txt\",sep=\",\",header=T) #500 rows & 20 cols\n",
    "bd_id=unique(bd[,1]) #63 individuals\n",
    "head(bd)\n",
    "summary(bd)"
   ]
  },
  {
   "cell_type": "code",
   "execution_count": null,
   "id": "a157a7b2-f09a-43f8-b550-849ba2342d87",
   "metadata": {
    "vscode": {
     "languageId": "r"
    }
   },
   "outputs": [],
   "source": [
    "# Read test day file\n",
    "test=read.table(\"control.csv\",sep=\";\",header=T)#107 rows & 21 cols\n",
    "test_id=unique(test[,1])#64 #july and sept\n",
    "#obtain date from test day records\n",
    "test$test_date1=dmy(test$test_date)\n",
    "# Obtain kgm of protein and fat \n",
    "\n",
    "test$kgmfat=test$fat*test$milk/100                  \n",
    "test$kgmprotein=test$protein*test$milk/100 \n",
    "\n",
    "head(test)\n",
    "summary(test)"
   ]
  },
  {
   "cell_type": "code",
   "execution_count": null,
   "id": "ad41016d-424b-431b-80b6-d3c514d14c59",
   "metadata": {
    "vscode": {
     "languageId": "r"
    }
   },
   "outputs": [],
   "source": [
    "################################################ Join both tables by ID and closest date ###################################################################\n",
    "\n",
    "# Obtain date from output\n",
    "bd<-tidyr::separate(data = bd, col =\"date\",into =  c(\"day\", \"month\",\"date\",\"time\",\"z\",\"year\"), \n",
    "                    sep = \" \", extra = \"merge\")\n",
    "bd$sniffer_date=paste(bd$date, bd$month, bd$year, sep = \"/\")\n",
    "bd$sniffer_date1<-dmy(bd$sniffer_date)\n",
    "\n",
    "\n",
    "# Join the two datatables-\n",
    "bd_full <- lapply(intersect(bd$cow,test$cow),function(id) {\n",
    "  d1 <- subset(bd,cow==id)\n",
    "  d2 <- subset(test,cow==id)\n",
    "  \n",
    "  d1$indices <- sapply(as.Date(d1$sniffer_date1),function(d) which.min(abs(as.Date(d2$test_date1) - d)))\n",
    "  d2$indices <- 1:nrow(d2)\n",
    "  \n",
    "  merge(d1,d2,by=c('cow','indices'))\n",
    "}) ###\n",
    "\n",
    "bd_full <- do.call(rbind,bd_full) #342\n",
    "bd_full$indices <- NULL\n",
    "colsums(is.na(bd_full))\n",
    "\n"
   ]
  },
  {
   "cell_type": "code",
   "execution_count": null,
   "id": "287bc8df",
   "metadata": {
    "vscode": {
     "languageId": "r"
    }
   },
   "outputs": [],
   "source": [
    "############################################ Check the number of animals that have not joint #####################################################################\n",
    "bd_antijoin=anti_join(bd,bd_full,by=\"cow\") #158, 3 individuals\n",
    "bd_full$dif_days=abs(bd_full$sniffer_date1-bd_full$test_date1)\n",
    "# check the difference of days ###choose less than 40 days\n",
    "table(bd_full$dif_days)"
   ]
  },
  {
   "cell_type": "code",
   "execution_count": null,
   "id": "54ddb0b6-19be-4b98-bdec-bf12cdd69c0f",
   "metadata": {
    "vscode": {
     "languageId": "r"
    }
   },
   "outputs": [],
   "source": [
    "##################################################### Calving and milking ################################################################\n",
    "# Obtain days in milking\n",
    "bd_full=tidyr::separate(data=bd_full,col =\"calving_date\", into=c('calving_date', 'calving_time'),sep=' ')\n",
    "bd_full$calving_date1=dmy(bd_full$calving_date)\n",
    "bd_full$daysinmilking=bd_full$sniffer_date1-bd_full$calving_date1\n",
    "bd_full$daysinmilking=gsub(\"[a-z]\",\"\",bd_full$daysinmilking) # retain only numbers\n",
    "bd_full$daysinmilking=as.numeric(bd_full$daysinmilking)\n",
    "# Check difference of days\n",
    "table(bd_full$daysinmilking)\n",
    "# Choose The threshold the difference of days , 365\n",
    "bd_full1=bd_full %>% filter(daysinmilking <= 365) \n",
    "\n",
    "# Obtain week of lactation \n",
    "bd_full1$week_lactation=floor(bd_full1$daysinmilking / 7)\n",
    "table(bd_full1$week_lactation)"
   ]
  },
  {
   "cell_type": "code",
   "execution_count": null,
   "id": "0e016e3a",
   "metadata": {
    "vscode": {
     "languageId": "r"
    }
   },
   "outputs": [],
   "source": [
    "# Codify days in milking as levels \n",
    "bd_full1<-mutate(bd_full1,state_lactation=case_when(\n",
    "  daysinmilking < 91 ~ \"1\",\n",
    "  daysinmilking > 90 & daysinmilking < 151 ~ \"2\",\n",
    "  daysinmilking >150 ~ \"3\"))\n",
    "table(bd_full1$state_lactation)"
   ]
  },
  {
   "cell_type": "code",
   "execution_count": null,
   "id": "a5589262",
   "metadata": {
    "vscode": {
     "languageId": "r"
    }
   },
   "outputs": [],
   "source": [
    "# Codify number of calving in three or four levels \n",
    "hist(bd_full1$numpar)\n",
    "table(bd_full1$numpar)\n",
    "# If there is data of more than 3 calvings\n",
    "bd_full1<-mutate(bd_full1,num_calving=case_when(\n",
    "  numpar <= 1 ~ \"1\",\n",
    "  numpar > 1 & numpar < 3  ~ \"2\",\n",
    "  numpar > 2 ~ \"3\"))\n",
    "table(bd_full1$num_calving)\n"
   ]
  },
  {
   "cell_type": "code",
   "execution_count": null,
   "id": "e0d12e8b-c491-41e8-a6f1-087b01c7a30d",
   "metadata": {
    "vscode": {
     "languageId": "r"
    }
   },
   "outputs": [],
   "source": [
    "######################################################### Ratio and grams per day #########################################################################\n",
    "# Ratio mean CH4/CO2\n",
    "bd_full1$ratioCH4CO2=bd_full1$meanCH4/bd_full1$meanCO2\n",
    "mean(bd_full1$ratioCH4CO2)\n",
    "\n",
    "# Obtain grams per day \n",
    "# Madsen equation\n",
    "bd_full1$ECM=bd_full1$milk*(0.25+0.122*bd_full1$fat+0.077*bd_full1$protein)\n",
    "bd_full1$days_inpregnancy=0\n",
    "bd_full1$gd_madsen<-(0.714*bd_full1$ratioCH4CO2)*180*24*0.001*(5.6*bd_full1$weight**0.75+22*bd_full1$ECM+\n",
    "                                                                 1.6*0.00001*bd_full1$days_inpregnancy**3)\n",
    "mean(bd_full1$gd_madsen,na.rm=T)\n",
    "  \n",
    "# Tier 2 equation\n",
    "Cf<-0.386*1.2 #coefficient for feeding situation, lactating\n",
    "Ca<-0 #Coefficient for activity\n",
    "Cp<-0.10 #coefficient for pregnancy\n",
    "DE<-80 #Digestible energy per gross energy in cows fed low quality forage and concentrate\n",
    "NEm<-Cf*bd_full1$weight**0.75\n",
    "NEa<-NEm*Ca\n",
    "NEl<-bd_full1$milk*(1.47+0.4*bd_full1$fat)\n",
    "NEp<-ifelse(bd_full1$daysinmilking>100, Cp*NEm,0)\n",
    "REM<-1.123-(0.004092)*DE+0.00001126*(DE)**2-25.4/DE\n",
    "GE<- 1000*((NEm+NEa+NEl+NEp)/REM)/(DE/100) #g/d\n",
    "bd_full1$CH4_tier2<-GE*0.065/55.65\n",
    "mean(bd_full1$CH4_tier2,na.rm=T)"
   ]
  },
  {
   "cell_type": "code",
   "execution_count": null,
   "id": "cb044458-33d2-4a1c-948b-a5fcda1af0ec",
   "metadata": {
    "vscode": {
     "languageId": "r"
    }
   },
   "outputs": [],
   "source": [
    "######################################################### Distribution of data ############################################################################################\n",
    "summary(bd_full1)\n",
    "# Plot the phenotypes distribution \n",
    "\n",
    "# By trait\n",
    "ggplot(bd_full1, aes(x = meanCH4)) +\n",
    "  geom_histogram( fill = \"skyblue\", color = \"black\") +\n",
    "  theme_minimal() +\n",
    "  labs(title = \"distribution of phenotypes\", x = \"meanCH4(ppm)\", y = \"Frequency\")\n",
    "\n",
    "# All traits \n",
    "names(bd_full1)\n",
    "# Convert to long format  (columns to rows)\n",
    "df_plot <- bd_full1 %>%\n",
    "  pivot_longer(cols = c(9:23,49,52,53), names_to = \"Variable\", values_to = \"Valor\")\n",
    "\n",
    "ggplot(df_plot, aes(x = Valor)) +\n",
    "  geom_histogram( fill = \"skyblue\", color = \"black\") +\n",
    "  facet_wrap(~ Variable, scales = \"free\") +\n",
    "  theme_minimal() +\n",
    "  labs(title = \"distribution of phenotypes\", x = \"value\", y = \"Frequency\")"
   ]
  },
  {
   "cell_type": "code",
   "execution_count": null,
   "id": "caf42a77-47ac-4efb-a5a6-5758c1fdbf6f",
   "metadata": {
    "vscode": {
     "languageId": "r"
    }
   },
   "outputs": [],
   "source": [
    "###################################################### Outlier detection by quartiles ######################################################################################\n",
    "ggplot(df_plot, aes(x = Valor)) +\n",
    "  geom_boxplot(fill = \"skyblue\", color = \"black\", outlier.color = \"red\", outlier.shape = 16) +\n",
    "  facet_wrap(~ Variable, scales = \"free\")+\n",
    "  theme_minimal() +\n",
    "  labs(title = \"Box and whisker plot\", x = \"Variable\", y = \"Values\")"
   ]
  },
  {
   "cell_type": "code",
   "execution_count": null,
   "id": "28d3da1e-0212-43a6-9346-720c93af8825",
   "metadata": {
    "vscode": {
     "languageId": "r"
    }
   },
   "outputs": [],
   "source": [
    "############################################################ DATA FILTERING ##########################################################################################\n",
    "# Threshold by CO2 concentration\n",
    "bd_full2 <- bd_full1 %>%\n",
    "  dplyr::mutate(across(c(meanCH4, meanCH4_5s,meanCO2,meanRatioCH4_CO2,AUC_CH4,AUC_Ratio,\n",
    "                         Sum_of_PeaksCH4,Sum_of_PeaksCH4_5s,Sum_of_PeaksCO2,Sum_of_PeaksRatio,\n",
    "                         Mean_of_PeaksCH4,Mean_of_PeaksRatio,Sum_MaxPeak, ratioCH4CO2, gd_madsen,\n",
    "                         CH4_tier2), ~ ifelse(meanCO2 < 2500, NA, .)))\n",
    "\n",
    "colSums(is.na(bd_full1))\n",
    "colSums(is.na(bd_full2))\n"
   ]
  },
  {
   "cell_type": "code",
   "execution_count": null,
   "id": "eed4edc7-df65-42d7-b82a-7f0182b4395a",
   "metadata": {
    "vscode": {
     "languageId": "r"
    }
   },
   "outputs": [],
   "source": [
    "############################################################ Correction by SD ############################################################################################\n",
    "# Function for correction of data ±3 SD\n",
    "function_outliers <- function(x) {\n",
    "  mean_x <- mean(x, na.rm = TRUE)\n",
    "  sd_x <- sd(x, na.rm = TRUE)\n",
    "  \n",
    "  # Set upper and lower lim (± 3 SD)\n",
    "  lower_lim <- mean_x - 3 * sd_x\n",
    "  upper_lim <- mean_x + 3 * sd_x\n",
    "  \n",
    "  # Replace out-of-limit values with Nas \n",
    "  x <- ifelse(x < lower_lim | x > upper_lim, NA, x)\n",
    "  \n",
    "  return(x)\n",
    "}\n",
    "#Apply the function\n",
    "data_corrected <- bd_full2 %>%\n",
    "  dplyr::mutate(across(\n",
    "    c(meanCH4, meanCH4_5s,meanCO2,meanRatioCH4_CO2,AUC_CH4,AUC_Ratio,\n",
    "      Sum_of_PeaksCH4,Sum_of_PeaksCH4_5s,Sum_of_PeaksCO2,Sum_of_PeaksRatio,\n",
    "      Mean_of_PeaksCH4,Mean_of_PeaksRatio,Sum_MaxPeak, ratioCH4CO2, gd_madsen ,\n",
    "      CH4_tier2,milk,kgmfat,kgmprotein), #Apply the function to these variables  \n",
    "    function_outliers    # Function to replace outliers with NAs\n",
    "  ))\n",
    "colSums(is.na(data_corrected))\n"
   ]
  },
  {
   "cell_type": "code",
   "execution_count": null,
   "id": "a03cc66a-22c7-40b8-88fc-903ec12cee72",
   "metadata": {
    "vscode": {
     "languageId": "r"
    }
   },
   "outputs": [],
   "source": [
    "####################################################### Check the data distribution after correction ######################################################## \n",
    "summary(data_corrected)\n",
    "# Plot again to compare\n",
    "# Plot the distribution again, but without outliers\n",
    "names(data_corrected)\n",
    "df_plot2 <- data_corrected %>%\n",
    "  pivot_longer(cols = c(9:23,49,52,53), names_to = \"Variable\", values_to = \"Valor\")\n",
    "\n",
    "ggplot(df_plot2, aes(x = Valor)) +\n",
    "  geom_histogram( fill = \"skyblue\", color = \"black\") +\n",
    "  facet_wrap(~ Variable, scales = \"free\") +\n",
    "  theme_minimal() +\n",
    "  labs(title = \"distribution of phenotypes\", x = \"value\", y = \"Frequency\")\n"
   ]
  },
  {
   "cell_type": "code",
   "execution_count": null,
   "id": "dea8044b-29f2-4817-a3dd-dee8d4c24d45",
   "metadata": {
    "vscode": {
     "languageId": "r"
    }
   },
   "outputs": [],
   "source": [
    "######################################################## Check the pattern by hour after correction ############################################################# \n",
    "# By individual\n",
    "animal_7436=subset(data_corrected,data_corrected$cow==\"7436\")\n",
    "ggplot(data=animal_7436, aes(x= hour, y=meanCH4)) +\n",
    "  geom_line()+\n",
    "  geom_smooth(method = \"loess\",  span = 0.3,se=TRUE)+\n",
    "  facet_wrap(facets = vars(date))+\n",
    "  ggtitle(\"pattern by hour\")\n",
    "\n",
    "# All traits\n",
    "ggplot(data=data_corrected, aes(x= hour, y=meanCH4)) +\n",
    "  geom_line()+\n",
    "  geom_smooth(method = \"loess\",  span = 0.3,se=TRUE)+\n",
    "  facet_wrap(facets = vars(cow))+\n",
    "  ggtitle(\"pattern by hour\")"
   ]
  },
  {
   "cell_type": "code",
   "execution_count": null,
   "id": "aa96b103-c09b-481d-b26d-f046b9a2e806",
   "metadata": {
    "vscode": {
     "languageId": "r"
    }
   },
   "outputs": [],
   "source": [
    "######################################################## Distribution by week of lactation #########################################################################\n",
    "table(data_corrected$week_lactation)\n",
    "\n",
    "ggplot(data=data_corrected, aes(x= week_lactation, y=meanCH4)) +\n",
    "  geom_smooth(method = \"loess\",  span = 0.6,se=TRUE)+\n",
    "  #facet_wrap(facets = vars(cow))+\n",
    "  ggtitle(\"week of lactation\")"
   ]
  },
  {
   "cell_type": "code",
   "execution_count": null,
   "id": "997517c0-e41e-4a5e-bc3d-91f9754e93fb",
   "metadata": {
    "vscode": {
     "languageId": "r"
    }
   },
   "outputs": [],
   "source": [
    "######################################################### Plot Correlations between phenotypes and productive traits ###############################################\n",
    "cor=data_corrected[,c(9,16,21,49,52,53,31,41,42)]\n",
    "cor=na.omit(cor)\n",
    "correlations <- cor(cor)\n",
    "head(correlations)\n",
    "\n",
    "pairs(cor,       \n",
    "      pch = 19, \n",
    "      col = 3,  \n",
    "      main = \"Phenotypic correlations\",    \n",
    "      gap = 0,           \n",
    "      row1attop = FALSE, \n",
    "      labels = colnames(cor),\n",
    "      cex.labels = 1,  \n",
    "      font.labels = 1)   \n"
   ]
  },
  {
   "cell_type": "code",
   "execution_count": null,
   "id": "527f07bf-0f81-4e6f-b382-820d0a740dae",
   "metadata": {
    "vscode": {
     "languageId": "r"
    }
   },
   "outputs": [],
   "source": [
    "#################################################################### MEAN PER WEEK #####################################################################################\n",
    "# Obtain epiweek with lubridate\n",
    "data_corrected$epiweek=epiweek(data_corrected$sniffer_date1)\n",
    "data_corrected$epiyear=epiyear(data_corrected$sniffer_date1)\n",
    "#If there are more than one robot by farm, codify them\n",
    "data_corrected$robot=\"1\"\n",
    "data_corrected$farm=\"1\"\n",
    "# Calculate the mean per week per animal, considering robot and year if there is more than one period of study\n",
    "mean_week <- data_corrected %>%\n",
    "  group_by(cow,epiweek,epiyear) %>% #some farms could be studied in two or more periods\n",
    "  dplyr::summarise(across((where(is.numeric)), list(mean = ~mean(.,na.rm=T)), .names = \"{.col}_mean_week\"),\n",
    "                   count = n()) %>%\n",
    "  dplyr::left_join(data_corrected, by = c(\"cow\",\"epiweek\",\"epiyear\"))#keep the other variables (are necessary for the model)\n",
    "\n",
    "# Filter by count per week, keep count > 3/5 records per week\n",
    "table(mean_week$count)\n",
    "mean_week1=mean_week[mean_week$count > 3, ]\n",
    "\n",
    "\n",
    "# Choose the variables to keep \n",
    "names(mean_week1)\n",
    "mean_week2=mean_week1[,c(1:3,5:38,86,87,94,95)] # ID, averages of phenotypes and variables to further analysis\n",
    "mean_week3=mean_week2[!duplicated(mean_week2),]\n",
    "# Sort the columns\n",
    "names(mean_week3)\n",
    "mean_week4=mean_week3[,c(1:3,41,40,39,38,4:30,33,36,37)] #38 rows\n"
   ]
  },
  {
   "cell_type": "code",
   "execution_count": null,
   "id": "3b4a09a6-44ea-402d-82cc-31e257d4c5a9",
   "metadata": {
    "vscode": {
     "languageId": "r"
    }
   },
   "outputs": [],
   "source": [
    "# Check the number of animals by comparison group. i.e =herd-season-year or herd-robot-week-year\n",
    "mean_week5=mean_week5%>%\n",
    "  group_by(farm,robot,epiweek,epiyear)%>%\n",
    "  dplyr::mutate(N_group=n())\n",
    "table(mean_week5$N_group) \n",
    "# Check the number of records per animal (to be considered in the model, repeated measurements)\n",
    "mean_week5=mean_week5%>%\n",
    "  group_by(cow)%>%\n",
    "  dplyr::mutate(N_group=n())\n",
    "table(mean_week5$N_anim) \n"
   ]
  },
  {
   "cell_type": "code",
   "execution_count": null,
   "id": "d200e0b2-a1c5-4320-b995-90491b80639f",
   "metadata": {
    "vscode": {
     "languageId": "r"
    }
   },
   "outputs": [],
   "source": [
    "##################################### EXTRA #########################################\n",
    "# Join columns to create mixed effects\n",
    "mean_week5=unite(mean_week5,col = \"random_effect\",c(\"farm\",\"robot\",\"epiweek\",\"epiyear\"),sep=\"-\",remove = F)  # create a new column \"random_effect\",combining 4 columns\n",
    "#keeping the original column in the dataset\n"
   ]
  }
 ],
 "metadata": {
  "kernelspec": {
   "display_name": "R 4.3.1",
   "language": "R",
   "name": "r4.3.1"
  },
  "language_info": {
   "codemirror_mode": "r",
   "file_extension": ".r",
   "mimetype": "text/x-r-source",
   "name": "R",
   "pygments_lexer": "r",
   "version": "4.3.1"
  }
 },
 "nbformat": 4,
 "nbformat_minor": 5
}
