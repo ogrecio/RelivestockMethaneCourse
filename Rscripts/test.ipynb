{
 "cells": [
  {
   "cell_type": "code",
   "execution_count": 3,
   "id": "fccf9dd0-5d1c-4cc1-9193-fb6fe914bf57",
   "metadata": {
    "collapsed": true,
    "jupyter": {
     "outputs_hidden": true
    }
   },
   "outputs": [
    {
     "name": "stderr",
     "output_type": "stream",
     "text": [
      "\n",
      "Attaching package: ‘dplyr’\n",
      "\n",
      "\n",
      "The following objects are masked from ‘package:stats’:\n",
      "\n",
      "    filter, lag\n",
      "\n",
      "\n",
      "The following objects are masked from ‘package:base’:\n",
      "\n",
      "    intersect, setdiff, setequal, union\n",
      "\n",
      "\n",
      "\n",
      "Attaching package: ‘lubridate’\n",
      "\n",
      "\n",
      "The following objects are masked from ‘package:base’:\n",
      "\n",
      "    date, intersect, setdiff, union\n",
      "\n",
      "\n",
      "Installing package into ‘/home/WUR/manza003/R/x86_64-pc-linux-gnu-library/4.3’\n",
      "(as ‘lib’ is unspecified)\n",
      "\n",
      "Warning message in install.packages(\"zoo\"):\n",
      "“installation of package ‘zoo’ had non-zero exit status”\n",
      "\n",
      "Attaching package: ‘zoo’\n",
      "\n",
      "\n",
      "The following objects are masked from ‘package:base’:\n",
      "\n",
      "    as.Date, as.Date.numeric\n",
      "\n",
      "\n"
     ]
    }
   ],
   "source": [
    "library(dplyr)\n",
    "library(tidyr)\n",
    "library(ggplot2)\n",
    "library(lubridate)\n",
    "install.packages(\"zoo\")\n",
    "library(zoo)\n"
   ]
  },
  {
   "cell_type": "code",
   "execution_count": 4,
   "id": "759b5661-d78e-4682-a739-911895c22d49",
   "metadata": {
    "collapsed": true,
    "jupyter": {
     "outputs_hidden": true
    },
    "scrolled": true
   },
   "outputs": [
    {
     "data": {
      "text/html": [
       "<table class=\"dataframe\">\n",
       "<caption>A data.frame: 6 × 4</caption>\n",
       "<thead>\n",
       "\t<tr><th></th><th scope=col>cow</th><th scope=col>date</th><th scope=col>ch4</th><th scope=col>co2</th></tr>\n",
       "\t<tr><th></th><th scope=col>&lt;int&gt;</th><th scope=col>&lt;chr&gt;</th><th scope=col>&lt;dbl&gt;</th><th scope=col>&lt;dbl&gt;</th></tr>\n",
       "</thead>\n",
       "<tbody>\n",
       "\t<tr><th scope=row>1</th><td>59</td><td>2022/18/02 00:00:01</td><td>0.042</td><td>0.512</td></tr>\n",
       "\t<tr><th scope=row>2</th><td>59</td><td>2022/18/02 00:00:02</td><td>0.042</td><td>0.520</td></tr>\n",
       "\t<tr><th scope=row>3</th><td>59</td><td>2022/18/02 00:00:03</td><td>0.041</td><td>0.521</td></tr>\n",
       "\t<tr><th scope=row>4</th><td>59</td><td>2022/18/02 00:00:04</td><td>0.041</td><td>0.526</td></tr>\n",
       "\t<tr><th scope=row>5</th><td>59</td><td>2022/18/02 00:00:05</td><td>0.041</td><td>0.527</td></tr>\n",
       "\t<tr><th scope=row>6</th><td>59</td><td>2022/18/02 00:00:06</td><td>0.041</td><td>0.529</td></tr>\n",
       "</tbody>\n",
       "</table>\n"
      ],
      "text/latex": [
       "A data.frame: 6 × 4\n",
       "\\begin{tabular}{r|llll}\n",
       "  & cow & date & ch4 & co2\\\\\n",
       "  & <int> & <chr> & <dbl> & <dbl>\\\\\n",
       "\\hline\n",
       "\t1 & 59 & 2022/18/02 00:00:01 & 0.042 & 0.512\\\\\n",
       "\t2 & 59 & 2022/18/02 00:00:02 & 0.042 & 0.520\\\\\n",
       "\t3 & 59 & 2022/18/02 00:00:03 & 0.041 & 0.521\\\\\n",
       "\t4 & 59 & 2022/18/02 00:00:04 & 0.041 & 0.526\\\\\n",
       "\t5 & 59 & 2022/18/02 00:00:05 & 0.041 & 0.527\\\\\n",
       "\t6 & 59 & 2022/18/02 00:00:06 & 0.041 & 0.529\\\\\n",
       "\\end{tabular}\n"
      ],
      "text/markdown": [
       "\n",
       "A data.frame: 6 × 4\n",
       "\n",
       "| <!--/--> | cow &lt;int&gt; | date &lt;chr&gt; | ch4 &lt;dbl&gt; | co2 &lt;dbl&gt; |\n",
       "|---|---|---|---|---|\n",
       "| 1 | 59 | 2022/18/02 00:00:01 | 0.042 | 0.512 |\n",
       "| 2 | 59 | 2022/18/02 00:00:02 | 0.042 | 0.520 |\n",
       "| 3 | 59 | 2022/18/02 00:00:03 | 0.041 | 0.521 |\n",
       "| 4 | 59 | 2022/18/02 00:00:04 | 0.041 | 0.526 |\n",
       "| 5 | 59 | 2022/18/02 00:00:05 | 0.041 | 0.527 |\n",
       "| 6 | 59 | 2022/18/02 00:00:06 | 0.041 | 0.529 |\n",
       "\n"
      ],
      "text/plain": [
       "  cow date                ch4   co2  \n",
       "1 59  2022/18/02 00:00:01 0.042 0.512\n",
       "2 59  2022/18/02 00:00:02 0.042 0.520\n",
       "3 59  2022/18/02 00:00:03 0.041 0.521\n",
       "4 59  2022/18/02 00:00:04 0.041 0.526\n",
       "5 59  2022/18/02 00:00:05 0.041 0.527\n",
       "6 59  2022/18/02 00:00:06 0.041 0.529"
      ]
     },
     "metadata": {},
     "output_type": "display_data"
    },
    {
     "data": {
      "text/html": [
       "<style>\n",
       ".list-inline {list-style: none; margin:0; padding: 0}\n",
       ".list-inline>li {display: inline-block}\n",
       ".list-inline>li:not(:last-child)::after {content: \"\\00b7\"; padding: 0 .5ex}\n",
       "</style>\n",
       "<ol class=list-inline><li>140188</li><li>4</li></ol>\n"
      ],
      "text/latex": [
       "\\begin{enumerate*}\n",
       "\\item 140188\n",
       "\\item 4\n",
       "\\end{enumerate*}\n"
      ],
      "text/markdown": [
       "1. 140188\n",
       "2. 4\n",
       "\n",
       "\n"
      ],
      "text/plain": [
       "[1] 140188      4"
      ]
     },
     "metadata": {},
     "output_type": "display_data"
    }
   ],
   "source": [
    "rawCH4 <- read.table(\"output.txt\", sep = \",\", stringsAsFactors = F, header = T)  \n",
    "colnames(rawCH4)\n",
    "head(rawCH4)\n",
    "dim(rawCH4)"
   ]
  },
  {
   "cell_type": "code",
   "execution_count": 40,
   "id": "e6c6fea7-2723-4349-a84e-d03c7dc0830f",
   "metadata": {
    "collapsed": true,
    "jupyter": {
     "outputs_hidden": true
    }
   },
   "outputs": [
    {
     "name": "stdout",
     "output_type": "stream",
     "text": [
      "  unique_cows\n",
      "1          66\n"
     ]
    },
    {
     "data": {
      "text/html": [
       "<table class=\"dataframe\">\n",
       "<caption>A tibble: 6 × 2</caption>\n",
       "<thead>\n",
       "\t<tr><th scope=col>cow</th><th scope=col>count</th></tr>\n",
       "\t<tr><th scope=col>&lt;int&gt;</th><th scope=col>&lt;int&gt;</th></tr>\n",
       "</thead>\n",
       "<tbody>\n",
       "\t<tr><td>13</td><td>3292</td></tr>\n",
       "\t<tr><td>21</td><td>1257</td></tr>\n",
       "\t<tr><td>31</td><td>1615</td></tr>\n",
       "\t<tr><td>32</td><td>1077</td></tr>\n",
       "\t<tr><td>47</td><td>2094</td></tr>\n",
       "\t<tr><td>49</td><td>3237</td></tr>\n",
       "</tbody>\n",
       "</table>\n"
      ],
      "text/latex": [
       "A tibble: 6 × 2\n",
       "\\begin{tabular}{ll}\n",
       " cow & count\\\\\n",
       " <int> & <int>\\\\\n",
       "\\hline\n",
       "\t 13 & 3292\\\\\n",
       "\t 21 & 1257\\\\\n",
       "\t 31 & 1615\\\\\n",
       "\t 32 & 1077\\\\\n",
       "\t 47 & 2094\\\\\n",
       "\t 49 & 3237\\\\\n",
       "\\end{tabular}\n"
      ],
      "text/markdown": [
       "\n",
       "A tibble: 6 × 2\n",
       "\n",
       "| cow &lt;int&gt; | count &lt;int&gt; |\n",
       "|---|---|\n",
       "| 13 | 3292 |\n",
       "| 21 | 1257 |\n",
       "| 31 | 1615 |\n",
       "| 32 | 1077 |\n",
       "| 47 | 2094 |\n",
       "| 49 | 3237 |\n",
       "\n"
      ],
      "text/plain": [
       "  cow count\n",
       "1 13  3292 \n",
       "2 21  1257 \n",
       "3 31  1615 \n",
       "4 32  1077 \n",
       "5 47  2094 \n",
       "6 49  3237 "
      ]
     },
     "metadata": {},
     "output_type": "display_data"
    }
   ],
   "source": [
    "num_cows <- event_ch4 %>%\n",
    "  summarise(unique_cows = n_distinct(cow))\n",
    " print(num_cows)\n",
    "\n",
    "cow_counts <- rawCH4 %>%\n",
    "  group_by(cow) %>%\n",
    "  summarise(count = n())\n",
    "head(cow_counts)"
   ]
  },
  {
   "cell_type": "code",
   "execution_count": 5,
   "id": "a157a7b2-f09a-43f8-b550-849ba2342d87",
   "metadata": {
    "collapsed": true,
    "jupyter": {
     "outputs_hidden": true
    }
   },
   "outputs": [
    {
     "data": {
      "text/html": [
       "<table class=\"dataframe\">\n",
       "<caption>A data.frame: 6 × 5</caption>\n",
       "<thead>\n",
       "\t<tr><th></th><th scope=col>cow</th><th scope=col>date</th><th scope=col>ch4</th><th scope=col>co2</th><th scope=col>datetime</th></tr>\n",
       "\t<tr><th></th><th scope=col>&lt;int&gt;</th><th scope=col>&lt;date&gt;</th><th scope=col>&lt;dbl&gt;</th><th scope=col>&lt;dbl&gt;</th><th scope=col>&lt;dttm&gt;</th></tr>\n",
       "</thead>\n",
       "<tbody>\n",
       "\t<tr><th scope=row>1</th><td>59</td><td>2022-02-18</td><td>0.042</td><td>0.512</td><td>2022-02-18 00:00:01</td></tr>\n",
       "\t<tr><th scope=row>2</th><td>59</td><td>2022-02-18</td><td>0.042</td><td>0.520</td><td>2022-02-18 00:00:02</td></tr>\n",
       "\t<tr><th scope=row>3</th><td>59</td><td>2022-02-18</td><td>0.041</td><td>0.521</td><td>2022-02-18 00:00:03</td></tr>\n",
       "\t<tr><th scope=row>4</th><td>59</td><td>2022-02-18</td><td>0.041</td><td>0.526</td><td>2022-02-18 00:00:04</td></tr>\n",
       "\t<tr><th scope=row>5</th><td>59</td><td>2022-02-18</td><td>0.041</td><td>0.527</td><td>2022-02-18 00:00:05</td></tr>\n",
       "\t<tr><th scope=row>6</th><td>59</td><td>2022-02-18</td><td>0.041</td><td>0.529</td><td>2022-02-18 00:00:06</td></tr>\n",
       "</tbody>\n",
       "</table>\n"
      ],
      "text/latex": [
       "A data.frame: 6 × 5\n",
       "\\begin{tabular}{r|lllll}\n",
       "  & cow & date & ch4 & co2 & datetime\\\\\n",
       "  & <int> & <date> & <dbl> & <dbl> & <dttm>\\\\\n",
       "\\hline\n",
       "\t1 & 59 & 2022-02-18 & 0.042 & 0.512 & 2022-02-18 00:00:01\\\\\n",
       "\t2 & 59 & 2022-02-18 & 0.042 & 0.520 & 2022-02-18 00:00:02\\\\\n",
       "\t3 & 59 & 2022-02-18 & 0.041 & 0.521 & 2022-02-18 00:00:03\\\\\n",
       "\t4 & 59 & 2022-02-18 & 0.041 & 0.526 & 2022-02-18 00:00:04\\\\\n",
       "\t5 & 59 & 2022-02-18 & 0.041 & 0.527 & 2022-02-18 00:00:05\\\\\n",
       "\t6 & 59 & 2022-02-18 & 0.041 & 0.529 & 2022-02-18 00:00:06\\\\\n",
       "\\end{tabular}\n"
      ],
      "text/markdown": [
       "\n",
       "A data.frame: 6 × 5\n",
       "\n",
       "| <!--/--> | cow &lt;int&gt; | date &lt;date&gt; | ch4 &lt;dbl&gt; | co2 &lt;dbl&gt; | datetime &lt;dttm&gt; |\n",
       "|---|---|---|---|---|---|\n",
       "| 1 | 59 | 2022-02-18 | 0.042 | 0.512 | 2022-02-18 00:00:01 |\n",
       "| 2 | 59 | 2022-02-18 | 0.042 | 0.520 | 2022-02-18 00:00:02 |\n",
       "| 3 | 59 | 2022-02-18 | 0.041 | 0.521 | 2022-02-18 00:00:03 |\n",
       "| 4 | 59 | 2022-02-18 | 0.041 | 0.526 | 2022-02-18 00:00:04 |\n",
       "| 5 | 59 | 2022-02-18 | 0.041 | 0.527 | 2022-02-18 00:00:05 |\n",
       "| 6 | 59 | 2022-02-18 | 0.041 | 0.529 | 2022-02-18 00:00:06 |\n",
       "\n"
      ],
      "text/plain": [
       "  cow date       ch4   co2   datetime           \n",
       "1 59  2022-02-18 0.042 0.512 2022-02-18 00:00:01\n",
       "2 59  2022-02-18 0.042 0.520 2022-02-18 00:00:02\n",
       "3 59  2022-02-18 0.041 0.521 2022-02-18 00:00:03\n",
       "4 59  2022-02-18 0.041 0.526 2022-02-18 00:00:04\n",
       "5 59  2022-02-18 0.041 0.527 2022-02-18 00:00:05\n",
       "6 59  2022-02-18 0.041 0.529 2022-02-18 00:00:06"
      ]
     },
     "metadata": {},
     "output_type": "display_data"
    }
   ],
   "source": [
    "# Parse datetime\n",
    "rawCH4$datetime <- as.POSIXct(rawCH4$date, format = \"%Y/%d/%m %H:%M:%S\")\n",
    "rawCH4$date <- as.Date.character(rawCH4$date, \"%Y/%d/%m\")\n",
    "head(rawCH4)"
   ]
  },
  {
   "cell_type": "code",
   "execution_count": 6,
   "id": "392e1e1e-0fc2-41fa-917f-e5b3baa59402",
   "metadata": {
    "collapsed": true,
    "jupyter": {
     "outputs_hidden": true
    }
   },
   "outputs": [
    {
     "data": {
      "text/html": [
       "<table class=\"dataframe\">\n",
       "<caption>A data.frame: 6 × 6</caption>\n",
       "<thead>\n",
       "\t<tr><th></th><th scope=col>ch4</th><th scope=col>co2</th><th scope=col>cow</th><th scope=col>date</th><th scope=col>datetime</th><th scope=col>eventID</th></tr>\n",
       "\t<tr><th></th><th scope=col>&lt;dbl&gt;</th><th scope=col>&lt;dbl&gt;</th><th scope=col>&lt;int&gt;</th><th scope=col>&lt;date&gt;</th><th scope=col>&lt;dttm&gt;</th><th scope=col>&lt;dbl&gt;</th></tr>\n",
       "</thead>\n",
       "<tbody>\n",
       "\t<tr><th scope=row>1</th><td>0.042</td><td>0.512</td><td>59</td><td>2022-02-18</td><td>2022-02-18 00:00:01</td><td>1</td></tr>\n",
       "\t<tr><th scope=row>2</th><td>0.042</td><td>0.520</td><td>59</td><td>2022-02-18</td><td>2022-02-18 00:00:02</td><td>1</td></tr>\n",
       "\t<tr><th scope=row>3</th><td>0.041</td><td>0.521</td><td>59</td><td>2022-02-18</td><td>2022-02-18 00:00:03</td><td>1</td></tr>\n",
       "\t<tr><th scope=row>4</th><td>0.041</td><td>0.526</td><td>59</td><td>2022-02-18</td><td>2022-02-18 00:00:04</td><td>1</td></tr>\n",
       "\t<tr><th scope=row>5</th><td>0.041</td><td>0.527</td><td>59</td><td>2022-02-18</td><td>2022-02-18 00:00:05</td><td>1</td></tr>\n",
       "\t<tr><th scope=row>6</th><td>0.041</td><td>0.529</td><td>59</td><td>2022-02-18</td><td>2022-02-18 00:00:06</td><td>1</td></tr>\n",
       "</tbody>\n",
       "</table>\n"
      ],
      "text/latex": [
       "A data.frame: 6 × 6\n",
       "\\begin{tabular}{r|llllll}\n",
       "  & ch4 & co2 & cow & date & datetime & eventID\\\\\n",
       "  & <dbl> & <dbl> & <int> & <date> & <dttm> & <dbl>\\\\\n",
       "\\hline\n",
       "\t1 & 0.042 & 0.512 & 59 & 2022-02-18 & 2022-02-18 00:00:01 & 1\\\\\n",
       "\t2 & 0.042 & 0.520 & 59 & 2022-02-18 & 2022-02-18 00:00:02 & 1\\\\\n",
       "\t3 & 0.041 & 0.521 & 59 & 2022-02-18 & 2022-02-18 00:00:03 & 1\\\\\n",
       "\t4 & 0.041 & 0.526 & 59 & 2022-02-18 & 2022-02-18 00:00:04 & 1\\\\\n",
       "\t5 & 0.041 & 0.527 & 59 & 2022-02-18 & 2022-02-18 00:00:05 & 1\\\\\n",
       "\t6 & 0.041 & 0.529 & 59 & 2022-02-18 & 2022-02-18 00:00:06 & 1\\\\\n",
       "\\end{tabular}\n"
      ],
      "text/markdown": [
       "\n",
       "A data.frame: 6 × 6\n",
       "\n",
       "| <!--/--> | ch4 &lt;dbl&gt; | co2 &lt;dbl&gt; | cow &lt;int&gt; | date &lt;date&gt; | datetime &lt;dttm&gt; | eventID &lt;dbl&gt; |\n",
       "|---|---|---|---|---|---|---|\n",
       "| 1 | 0.042 | 0.512 | 59 | 2022-02-18 | 2022-02-18 00:00:01 | 1 |\n",
       "| 2 | 0.042 | 0.520 | 59 | 2022-02-18 | 2022-02-18 00:00:02 | 1 |\n",
       "| 3 | 0.041 | 0.521 | 59 | 2022-02-18 | 2022-02-18 00:00:03 | 1 |\n",
       "| 4 | 0.041 | 0.526 | 59 | 2022-02-18 | 2022-02-18 00:00:04 | 1 |\n",
       "| 5 | 0.041 | 0.527 | 59 | 2022-02-18 | 2022-02-18 00:00:05 | 1 |\n",
       "| 6 | 0.041 | 0.529 | 59 | 2022-02-18 | 2022-02-18 00:00:06 | 1 |\n",
       "\n"
      ],
      "text/plain": [
       "  ch4   co2   cow date       datetime            eventID\n",
       "1 0.042 0.512 59  2022-02-18 2022-02-18 00:00:01 1      \n",
       "2 0.042 0.520 59  2022-02-18 2022-02-18 00:00:02 1      \n",
       "3 0.041 0.521 59  2022-02-18 2022-02-18 00:00:03 1      \n",
       "4 0.041 0.526 59  2022-02-18 2022-02-18 00:00:04 1      \n",
       "5 0.041 0.527 59  2022-02-18 2022-02-18 00:00:05 1      \n",
       "6 0.041 0.529 59  2022-02-18 2022-02-18 00:00:06 1      "
      ]
     },
     "metadata": {},
     "output_type": "display_data"
    },
    {
     "data": {
      "image/png": "[encoded data removed]",
      "text/plain": [
       "Plot with title “Histogram of event_ch4$eventID”"
      ]
     },
     "metadata": {
      "image/png": {
       "height": 420,
       "width": 420
      }
     },
     "output_type": "display_data"
    }
   ],
   "source": [
    "#create an event per entrance to the AMS per day per animal\n",
    "event_ch4 <- rawCH4 %>%    \n",
    "  select(ch4, co2, cow, date, datetime) %>%\n",
    "  mutate(eventID = 1 + cumsum(cow != lag(cow, default = first(cow))))\n",
    "\n",
    "hist(event_ch4$eventID)\n",
    "head(event_ch4)"
   ]
  },
  {
   "cell_type": "code",
   "execution_count": 7,
   "id": "ad41016d-424b-431b-80b6-d3c514d14c59",
   "metadata": {
    "collapsed": true,
    "jupyter": {
     "outputs_hidden": true
    }
   },
   "outputs": [
    {
     "data": {
      "text/html": [
       "<table class=\"dataframe\">\n",
       "<caption>A tibble: 6 × 4</caption>\n",
       "<thead>\n",
       "\t<tr><th scope=col>eventID</th><th scope=col>start_time</th><th scope=col>end_time</th><th scope=col>lenght</th></tr>\n",
       "\t<tr><th scope=col>&lt;dbl&gt;</th><th scope=col>&lt;dttm&gt;</th><th scope=col>&lt;dttm&gt;</th><th scope=col>&lt;dbl&gt;</th></tr>\n",
       "</thead>\n",
       "<tbody>\n",
       "\t<tr><td>1</td><td>2022-02-18 00:00:01</td><td>2022-02-18 00:05:41</td><td>340</td></tr>\n",
       "\t<tr><td>2</td><td>2022-02-18 00:05:43</td><td>2022-02-18 00:11:41</td><td>358</td></tr>\n",
       "\t<tr><td>3</td><td>2022-02-18 00:11:43</td><td>2022-02-18 00:16:41</td><td>298</td></tr>\n",
       "\t<tr><td>4</td><td>2022-02-18 00:16:43</td><td>2022-02-18 00:26:41</td><td>598</td></tr>\n",
       "\t<tr><td>5</td><td>2022-02-18 00:26:43</td><td>2022-02-18 00:37:41</td><td>658</td></tr>\n",
       "\t<tr><td>6</td><td>2022-02-18 00:37:43</td><td>2022-02-18 00:43:41</td><td>358</td></tr>\n",
       "</tbody>\n",
       "</table>\n"
      ],
      "text/latex": [
       "A tibble: 6 × 4\n",
       "\\begin{tabular}{llll}\n",
       " eventID & start\\_time & end\\_time & lenght\\\\\n",
       " <dbl> & <dttm> & <dttm> & <dbl>\\\\\n",
       "\\hline\n",
       "\t 1 & 2022-02-18 00:00:01 & 2022-02-18 00:05:41 & 340\\\\\n",
       "\t 2 & 2022-02-18 00:05:43 & 2022-02-18 00:11:41 & 358\\\\\n",
       "\t 3 & 2022-02-18 00:11:43 & 2022-02-18 00:16:41 & 298\\\\\n",
       "\t 4 & 2022-02-18 00:16:43 & 2022-02-18 00:26:41 & 598\\\\\n",
       "\t 5 & 2022-02-18 00:26:43 & 2022-02-18 00:37:41 & 658\\\\\n",
       "\t 6 & 2022-02-18 00:37:43 & 2022-02-18 00:43:41 & 358\\\\\n",
       "\\end{tabular}\n"
      ],
      "text/markdown": [
       "\n",
       "A tibble: 6 × 4\n",
       "\n",
       "| eventID &lt;dbl&gt; | start_time &lt;dttm&gt; | end_time &lt;dttm&gt; | lenght &lt;dbl&gt; |\n",
       "|---|---|---|---|\n",
       "| 1 | 2022-02-18 00:00:01 | 2022-02-18 00:05:41 | 340 |\n",
       "| 2 | 2022-02-18 00:05:43 | 2022-02-18 00:11:41 | 358 |\n",
       "| 3 | 2022-02-18 00:11:43 | 2022-02-18 00:16:41 | 298 |\n",
       "| 4 | 2022-02-18 00:16:43 | 2022-02-18 00:26:41 | 598 |\n",
       "| 5 | 2022-02-18 00:26:43 | 2022-02-18 00:37:41 | 658 |\n",
       "| 6 | 2022-02-18 00:37:43 | 2022-02-18 00:43:41 | 358 |\n",
       "\n"
      ],
      "text/plain": [
       "  eventID start_time          end_time            lenght\n",
       "1 1       2022-02-18 00:00:01 2022-02-18 00:05:41 340   \n",
       "2 2       2022-02-18 00:05:43 2022-02-18 00:11:41 358   \n",
       "3 3       2022-02-18 00:11:43 2022-02-18 00:16:41 298   \n",
       "4 4       2022-02-18 00:16:43 2022-02-18 00:26:41 598   \n",
       "5 5       2022-02-18 00:26:43 2022-02-18 00:37:41 658   \n",
       "6 6       2022-02-18 00:37:43 2022-02-18 00:43:41 358   "
      ]
     },
     "metadata": {},
     "output_type": "display_data"
    },
    {
     "data": {
      "text/plain": [
       "    eventID         start_time                    \n",
       " Min.   :  1.00   Min.   :2022-02-18 00:00:01.00  \n",
       " 1st Qu.: 79.25   1st Qu.:2022-02-18 09:40:58.00  \n",
       " Median :157.50   Median :2022-02-18 18:57:43.00  \n",
       " Mean   :157.50   Mean   :2022-02-18 19:11:00.05  \n",
       " 3rd Qu.:235.75   3rd Qu.:2022-02-19 04:48:58.00  \n",
       " Max.   :314.00   Max.   :2022-02-19 14:51:43.00  \n",
       "    end_time                          lenght      \n",
       " Min.   :2022-02-18 00:05:41.00   Min.   : 238.0  \n",
       " 1st Qu.:2022-02-18 09:46:11.00   1st Qu.: 358.0  \n",
       " Median :2022-02-18 19:02:41.00   Median : 418.0  \n",
       " Mean   :2022-02-18 19:18:25.51   Mean   : 445.5  \n",
       " 3rd Qu.:2022-02-19 04:54:26.00   3rd Qu.: 478.0  \n",
       " Max.   :2022-02-19 15:01:41.00   Max.   :2098.0  "
      ]
     },
     "metadata": {},
     "output_type": "display_data"
    },
    {
     "data": {
      "image/png": "[encoded data removed]",
      "text/plain": [
       "Plot with title “Histogram of event_duration$lenght”"
      ]
     },
     "metadata": {
      "image/png": {
       "height": 420,
       "width": 420
      }
     },
     "output_type": "display_data"
    }
   ],
   "source": [
    "########## calculating duration of the visit ##############\n",
    "event_duration <- event_ch4 %>%\n",
    "  group_by(eventID) %>%\n",
    "  summarize(\n",
    "    start_time = min(datetime),\n",
    "    end_time = max(datetime),\n",
    "    lenght = as.numeric(difftime(max(datetime), min(datetime), units = \"secs\"))\n",
    "  )\n",
    "head(event_duration)\n",
    "summary(event_duration)\n",
    "hist(event_duration$lenght)"
   ]
  },
  {
   "cell_type": "code",
   "execution_count": 39,
   "id": "54ddb0b6-19be-4b98-bdec-bf12cdd69c0f",
   "metadata": {
    "collapsed": true,
    "jupyter": {
     "outputs_hidden": true
    }
   },
   "outputs": [
    {
     "name": "stdout",
     "output_type": "stream",
     "text": [
      "\u001b[90m# A tibble: 66 × 2\u001b[39m\n",
      "     cow unique_events\n",
      "   \u001b[3m\u001b[90m<int>\u001b[39m\u001b[23m         \u001b[3m\u001b[90m<int>\u001b[39m\u001b[23m\n",
      "\u001b[90m 1\u001b[39m    13             8\n",
      "\u001b[90m 2\u001b[39m    21             3\n",
      "\u001b[90m 3\u001b[39m    31             5\n",
      "\u001b[90m 4\u001b[39m    32             3\n",
      "\u001b[90m 5\u001b[39m    47             6\n",
      "\u001b[90m 6\u001b[39m    49             3\n",
      "\u001b[90m 7\u001b[39m    53             6\n",
      "\u001b[90m 8\u001b[39m    58             3\n",
      "\u001b[90m 9\u001b[39m    59             4\n",
      "\u001b[90m10\u001b[39m    72             7\n",
      "\u001b[90m# ℹ 56 more rows\u001b[39m\n"
     ]
    }
   ],
   "source": [
    "#Calculating how many events (visit) per cow \n",
    "\n",
    "event_counts <- event_ch4 %>%\n",
    "  group_by(cow) %>%\n",
    "  summarise(unique_events = n_distinct(eventID))\n",
    "\n",
    "# View the result\n",
    "print(event_counts)\n"
   ]
  },
  {
   "cell_type": "code",
   "execution_count": 8,
   "id": "e0d12e8b-c491-41e8-a6f1-087b01c7a30d",
   "metadata": {
    "collapsed": true,
    "jupyter": {
     "outputs_hidden": true
    }
   },
   "outputs": [
    {
     "data": {
      "text/html": [
       "<table class=\"dataframe\">\n",
       "<caption>A tibble: 6 × 2</caption>\n",
       "<thead>\n",
       "\t<tr><th scope=col>eventID</th><th scope=col>avg_ch4</th></tr>\n",
       "\t<tr><th scope=col>&lt;dbl&gt;</th><th scope=col>&lt;dbl&gt;</th></tr>\n",
       "</thead>\n",
       "<tbody>\n",
       "\t<tr><td>1</td><td>0.0232</td></tr>\n",
       "\t<tr><td>2</td><td>0.0252</td></tr>\n",
       "\t<tr><td>3</td><td>0.0240</td></tr>\n",
       "\t<tr><td>4</td><td>0.0180</td></tr>\n",
       "\t<tr><td>5</td><td>0.0190</td></tr>\n",
       "\t<tr><td>6</td><td>0.0260</td></tr>\n",
       "</tbody>\n",
       "</table>\n"
      ],
      "text/latex": [
       "A tibble: 6 × 2\n",
       "\\begin{tabular}{ll}\n",
       " eventID & avg\\_ch4\\\\\n",
       " <dbl> & <dbl>\\\\\n",
       "\\hline\n",
       "\t 1 & 0.0232\\\\\n",
       "\t 2 & 0.0252\\\\\n",
       "\t 3 & 0.0240\\\\\n",
       "\t 4 & 0.0180\\\\\n",
       "\t 5 & 0.0190\\\\\n",
       "\t 6 & 0.0260\\\\\n",
       "\\end{tabular}\n"
      ],
      "text/markdown": [
       "\n",
       "A tibble: 6 × 2\n",
       "\n",
       "| eventID &lt;dbl&gt; | avg_ch4 &lt;dbl&gt; |\n",
       "|---|---|\n",
       "| 1 | 0.0232 |\n",
       "| 2 | 0.0252 |\n",
       "| 3 | 0.0240 |\n",
       "| 4 | 0.0180 |\n",
       "| 5 | 0.0190 |\n",
       "| 6 | 0.0260 |\n",
       "\n"
      ],
      "text/plain": [
       "  eventID avg_ch4\n",
       "1 1       0.0232 \n",
       "2 2       0.0252 \n",
       "3 3       0.0240 \n",
       "4 4       0.0180 \n",
       "5 5       0.0190 \n",
       "6 6       0.0260 "
      ]
     },
     "metadata": {},
     "output_type": "display_data"
    },
    {
     "data": {
      "text/plain": [
       "    eventID          avg_ch4       \n",
       " Min.   :  1.00   Min.   :0.01100  \n",
       " 1st Qu.: 79.25   1st Qu.:0.01700  \n",
       " Median :157.50   Median :0.02150  \n",
       " Mean   :157.50   Mean   :0.02197  \n",
       " 3rd Qu.:235.75   3rd Qu.:0.02600  \n",
       " Max.   :314.00   Max.   :0.04640  "
      ]
     },
     "metadata": {},
     "output_type": "display_data"
    }
   ],
   "source": [
    "############ calculating the average of the lowest 3 or 5 measurements per visit to use it as background ########\n",
    "event_5low <- event_ch4 %>%\n",
    "  group_by(eventID) %>%\n",
    "  arrange(ch4) %>%\n",
    "  slice_head(n = 5) %>%\n",
    "  summarise(avg_ch4 = mean(ch4, na.rm = TRUE))\n",
    "head(event_5low)\n",
    "summary(event_5low)"
   ]
  },
  {
   "cell_type": "code",
   "execution_count": 9,
   "id": "cb044458-33d2-4a1c-948b-a5fcda1af0ec",
   "metadata": {
    "collapsed": true,
    "jupyter": {
     "outputs_hidden": true
    }
   },
   "outputs": [
    {
     "data": {
      "text/html": [
       "<table class=\"dataframe\">\n",
       "<caption>A tibble: 6 × 2</caption>\n",
       "<thead>\n",
       "\t<tr><th scope=col>eventID</th><th scope=col>avg_ch4</th></tr>\n",
       "\t<tr><th scope=col>&lt;dbl&gt;</th><th scope=col>&lt;dbl&gt;</th></tr>\n",
       "</thead>\n",
       "<tbody>\n",
       "\t<tr><td>1</td><td>0.023</td></tr>\n",
       "\t<tr><td>2</td><td>0.025</td></tr>\n",
       "\t<tr><td>3</td><td>0.024</td></tr>\n",
       "\t<tr><td>4</td><td>0.018</td></tr>\n",
       "\t<tr><td>5</td><td>0.019</td></tr>\n",
       "\t<tr><td>6</td><td>0.026</td></tr>\n",
       "</tbody>\n",
       "</table>\n"
      ],
      "text/latex": [
       "A tibble: 6 × 2\n",
       "\\begin{tabular}{ll}\n",
       " eventID & avg\\_ch4\\\\\n",
       " <dbl> & <dbl>\\\\\n",
       "\\hline\n",
       "\t 1 & 0.023\\\\\n",
       "\t 2 & 0.025\\\\\n",
       "\t 3 & 0.024\\\\\n",
       "\t 4 & 0.018\\\\\n",
       "\t 5 & 0.019\\\\\n",
       "\t 6 & 0.026\\\\\n",
       "\\end{tabular}\n"
      ],
      "text/markdown": [
       "\n",
       "A tibble: 6 × 2\n",
       "\n",
       "| eventID &lt;dbl&gt; | avg_ch4 &lt;dbl&gt; |\n",
       "|---|---|\n",
       "| 1 | 0.023 |\n",
       "| 2 | 0.025 |\n",
       "| 3 | 0.024 |\n",
       "| 4 | 0.018 |\n",
       "| 5 | 0.019 |\n",
       "| 6 | 0.026 |\n",
       "\n"
      ],
      "text/plain": [
       "  eventID avg_ch4\n",
       "1 1       0.023  \n",
       "2 2       0.025  \n",
       "3 3       0.024  \n",
       "4 4       0.018  \n",
       "5 5       0.019  \n",
       "6 6       0.026  "
      ]
     },
     "metadata": {},
     "output_type": "display_data"
    },
    {
     "data": {
      "text/plain": [
       "    eventID          avg_ch4       \n",
       " Min.   :  1.00   Min.   :0.01100  \n",
       " 1st Qu.: 79.25   1st Qu.:0.01700  \n",
       " Median :157.50   Median :0.02117  \n",
       " Mean   :157.50   Mean   :0.02189  \n",
       " 3rd Qu.:235.75   3rd Qu.:0.02600  \n",
       " Max.   :314.00   Max.   :0.04600  "
      ]
     },
     "metadata": {},
     "output_type": "display_data"
    }
   ],
   "source": [
    "event_3low <- event_ch4 %>%\n",
    "  group_by(eventID) %>%\n",
    "  arrange(ch4) %>%\n",
    "  slice_head(n = 3) %>%\n",
    "  summarise(avg_ch4 = mean(ch4, na.rm = TRUE))\n",
    "head(event_3low)\n",
    "summary(event_3low)"
   ]
  },
  {
   "cell_type": "code",
   "execution_count": 10,
   "id": "caf42a77-47ac-4efb-a5a6-5758c1fdbf6f",
   "metadata": {
    "collapsed": true,
    "jupyter": {
     "outputs_hidden": true
    }
   },
   "outputs": [
    {
     "data": {
      "text/html": [
       "<table class=\"dataframe\">\n",
       "<caption>A tibble: 6 × 2</caption>\n",
       "<thead>\n",
       "\t<tr><th scope=col>eventID</th><th scope=col>ch4_quantile_0_001</th></tr>\n",
       "\t<tr><th scope=col>&lt;dbl&gt;</th><th scope=col>&lt;dbl&gt;</th></tr>\n",
       "</thead>\n",
       "<tbody>\n",
       "\t<tr><td>1</td><td>0.023</td></tr>\n",
       "\t<tr><td>2</td><td>0.025</td></tr>\n",
       "\t<tr><td>3</td><td>0.024</td></tr>\n",
       "\t<tr><td>4</td><td>0.018</td></tr>\n",
       "\t<tr><td>5</td><td>0.019</td></tr>\n",
       "\t<tr><td>6</td><td>0.026</td></tr>\n",
       "</tbody>\n",
       "</table>\n"
      ],
      "text/latex": [
       "A tibble: 6 × 2\n",
       "\\begin{tabular}{ll}\n",
       " eventID & ch4\\_quantile\\_0\\_001\\\\\n",
       " <dbl> & <dbl>\\\\\n",
       "\\hline\n",
       "\t 1 & 0.023\\\\\n",
       "\t 2 & 0.025\\\\\n",
       "\t 3 & 0.024\\\\\n",
       "\t 4 & 0.018\\\\\n",
       "\t 5 & 0.019\\\\\n",
       "\t 6 & 0.026\\\\\n",
       "\\end{tabular}\n"
      ],
      "text/markdown": [
       "\n",
       "A tibble: 6 × 2\n",
       "\n",
       "| eventID &lt;dbl&gt; | ch4_quantile_0_001 &lt;dbl&gt; |\n",
       "|---|---|\n",
       "| 1 | 0.023 |\n",
       "| 2 | 0.025 |\n",
       "| 3 | 0.024 |\n",
       "| 4 | 0.018 |\n",
       "| 5 | 0.019 |\n",
       "| 6 | 0.026 |\n",
       "\n"
      ],
      "text/plain": [
       "  eventID ch4_quantile_0_001\n",
       "1 1       0.023             \n",
       "2 2       0.025             \n",
       "3 3       0.024             \n",
       "4 4       0.018             \n",
       "5 5       0.019             \n",
       "6 6       0.026             "
      ]
     },
     "metadata": {},
     "output_type": "display_data"
    },
    {
     "data": {
      "text/plain": [
       "    eventID       ch4_quantile_0_001\n",
       " Min.   :  1.00   Min.   :0.01100   \n",
       " 1st Qu.: 79.25   1st Qu.:0.01700   \n",
       " Median :157.50   Median :0.02100   \n",
       " Mean   :157.50   Mean   :0.02186   \n",
       " 3rd Qu.:235.75   3rd Qu.:0.02600   \n",
       " Max.   :314.00   Max.   :0.04600   "
      ]
     },
     "metadata": {},
     "output_type": "display_data"
    }
   ],
   "source": [
    "############ calculating the 0.001 quantile per visit to use it as background ############\n",
    "event_quant <- event_ch4 %>%\n",
    "  group_by(eventID) %>%\n",
    "  summarise(ch4_quantile_0_001 = quantile(ch4, probs = 0.001, na.rm = TRUE))\n",
    "head(event_quant)\n",
    "summary(event_quant)"
   ]
  },
  {
   "cell_type": "code",
   "execution_count": 11,
   "id": "5597ef7a-bb0b-4be0-b532-a27794a30f8a",
   "metadata": {
    "collapsed": true,
    "jupyter": {
     "outputs_hidden": true
    }
   },
   "outputs": [
    {
     "data": {
      "text/html": [
       "<table class=\"dataframe\">\n",
       "<caption>A tibble: 6 × 3</caption>\n",
       "<thead>\n",
       "\t<tr><th scope=col>eventID</th><th scope=col>mean_ch4</th><th scope=col>mean_co2</th></tr>\n",
       "\t<tr><th scope=col>&lt;dbl&gt;</th><th scope=col>&lt;dbl&gt;</th><th scope=col>&lt;dbl&gt;</th></tr>\n",
       "</thead>\n",
       "<tbody>\n",
       "\t<tr><td>1</td><td>0.04187097</td><td>0.5155718</td></tr>\n",
       "\t<tr><td>2</td><td>0.04133148</td><td>0.4482061</td></tr>\n",
       "\t<tr><td>3</td><td>0.04255184</td><td>0.5642174</td></tr>\n",
       "\t<tr><td>4</td><td>0.04149416</td><td>0.5497028</td></tr>\n",
       "\t<tr><td>5</td><td>0.03828073</td><td>0.4690228</td></tr>\n",
       "\t<tr><td>6</td><td>0.04255710</td><td>0.5621866</td></tr>\n",
       "</tbody>\n",
       "</table>\n"
      ],
      "text/latex": [
       "A tibble: 6 × 3\n",
       "\\begin{tabular}{lll}\n",
       " eventID & mean\\_ch4 & mean\\_co2\\\\\n",
       " <dbl> & <dbl> & <dbl>\\\\\n",
       "\\hline\n",
       "\t 1 & 0.04187097 & 0.5155718\\\\\n",
       "\t 2 & 0.04133148 & 0.4482061\\\\\n",
       "\t 3 & 0.04255184 & 0.5642174\\\\\n",
       "\t 4 & 0.04149416 & 0.5497028\\\\\n",
       "\t 5 & 0.03828073 & 0.4690228\\\\\n",
       "\t 6 & 0.04255710 & 0.5621866\\\\\n",
       "\\end{tabular}\n"
      ],
      "text/markdown": [
       "\n",
       "A tibble: 6 × 3\n",
       "\n",
       "| eventID &lt;dbl&gt; | mean_ch4 &lt;dbl&gt; | mean_co2 &lt;dbl&gt; |\n",
       "|---|---|---|\n",
       "| 1 | 0.04187097 | 0.5155718 |\n",
       "| 2 | 0.04133148 | 0.4482061 |\n",
       "| 3 | 0.04255184 | 0.5642174 |\n",
       "| 4 | 0.04149416 | 0.5497028 |\n",
       "| 5 | 0.03828073 | 0.4690228 |\n",
       "| 6 | 0.04255710 | 0.5621866 |\n",
       "\n"
      ],
      "text/plain": [
       "  eventID mean_ch4   mean_co2 \n",
       "1 1       0.04187097 0.5155718\n",
       "2 2       0.04133148 0.4482061\n",
       "3 3       0.04255184 0.5642174\n",
       "4 4       0.04149416 0.5497028\n",
       "5 5       0.03828073 0.4690228\n",
       "6 6       0.04255710 0.5621866"
      ]
     },
     "metadata": {},
     "output_type": "display_data"
    },
    {
     "data": {
      "text/plain": [
       "    eventID          mean_ch4          mean_co2      \n",
       " Min.   :  1.00   Min.   :0.01530   Min.   :0.08751  \n",
       " 1st Qu.: 79.25   1st Qu.:0.02743   1st Qu.:0.30405  \n",
       " Median :157.50   Median :0.03608   Median :0.42164  \n",
       " Mean   :157.50   Mean   :0.03580   Mean   :0.39873  \n",
       " 3rd Qu.:235.75   3rd Qu.:0.04288   3rd Qu.:0.50466  \n",
       " Max.   :314.00   Max.   :0.07181   Max.   :0.75020  "
      ]
     },
     "metadata": {},
     "output_type": "display_data"
    }
   ],
   "source": [
    "############### calculating the mean for ch4 and co2 per visit #################\n",
    "event_means <- event_ch4 %>%\n",
    "  group_by(eventID) %>%\n",
    "  summarise(\n",
    "    mean_ch4 = mean(ch4, na.rm = TRUE),\n",
    "    mean_co2 = mean(co2, na.rm = TRUE)\n",
    "  )\n",
    "head(event_means)\n",
    "summary(event_means)"
   ]
  },
  {
   "cell_type": "code",
   "execution_count": 12,
   "id": "28d3da1e-0212-43a6-9346-720c93af8825",
   "metadata": {
    "collapsed": true,
    "jupyter": {
     "outputs_hidden": true
    }
   },
   "outputs": [
    {
     "name": "stderr",
     "output_type": "stream",
     "text": [
      "Warning message:\n",
      "“\u001b[1m\u001b[22mThere was 1 warning in `mutate()`.\n",
      "\u001b[1m\u001b[22m\u001b[36mℹ\u001b[39m In argument: `datetime = ymd_hms(datetime)`.\n",
      "Caused by warning:\n",
      "\u001b[33m!\u001b[39m  1 failed to parse.”\n"
     ]
    },
    {
     "data": {
      "text/html": [
       "<table class=\"dataframe\">\n",
       "<caption>A tibble: 6 × 3</caption>\n",
       "<thead>\n",
       "\t<tr><th scope=col>eventID</th><th scope=col>mean_ch4</th><th scope=col>mean_co2</th></tr>\n",
       "\t<tr><th scope=col>&lt;dbl&gt;</th><th scope=col>&lt;dbl&gt;</th><th scope=col>&lt;dbl&gt;</th></tr>\n",
       "</thead>\n",
       "<tbody>\n",
       "\t<tr><td>1</td><td>0.04280083</td><td>0.5088548</td></tr>\n",
       "\t<tr><td>2</td><td>0.04334025</td><td>0.4267427</td></tr>\n",
       "\t<tr><td>3</td><td>0.04154393</td><td>0.5862678</td></tr>\n",
       "\t<tr><td>4</td><td>0.04536100</td><td>0.6228091</td></tr>\n",
       "\t<tr><td>5</td><td>0.04672199</td><td>0.5956722</td></tr>\n",
       "\t<tr><td>6</td><td>0.04369710</td><td>0.5809004</td></tr>\n",
       "</tbody>\n",
       "</table>\n"
      ],
      "text/latex": [
       "A tibble: 6 × 3\n",
       "\\begin{tabular}{lll}\n",
       " eventID & mean\\_ch4 & mean\\_co2\\\\\n",
       " <dbl> & <dbl> & <dbl>\\\\\n",
       "\\hline\n",
       "\t 1 & 0.04280083 & 0.5088548\\\\\n",
       "\t 2 & 0.04334025 & 0.4267427\\\\\n",
       "\t 3 & 0.04154393 & 0.5862678\\\\\n",
       "\t 4 & 0.04536100 & 0.6228091\\\\\n",
       "\t 5 & 0.04672199 & 0.5956722\\\\\n",
       "\t 6 & 0.04369710 & 0.5809004\\\\\n",
       "\\end{tabular}\n"
      ],
      "text/markdown": [
       "\n",
       "A tibble: 6 × 3\n",
       "\n",
       "| eventID &lt;dbl&gt; | mean_ch4 &lt;dbl&gt; | mean_co2 &lt;dbl&gt; |\n",
       "|---|---|---|\n",
       "| 1 | 0.04280083 | 0.5088548 |\n",
       "| 2 | 0.04334025 | 0.4267427 |\n",
       "| 3 | 0.04154393 | 0.5862678 |\n",
       "| 4 | 0.04536100 | 0.6228091 |\n",
       "| 5 | 0.04672199 | 0.5956722 |\n",
       "| 6 | 0.04369710 | 0.5809004 |\n",
       "\n"
      ],
      "text/plain": [
       "  eventID mean_ch4   mean_co2 \n",
       "1 1       0.04280083 0.5088548\n",
       "2 2       0.04334025 0.4267427\n",
       "3 3       0.04154393 0.5862678\n",
       "4 4       0.04536100 0.6228091\n",
       "5 5       0.04672199 0.5956722\n",
       "6 6       0.04369710 0.5809004"
      ]
     },
     "metadata": {},
     "output_type": "display_data"
    },
    {
     "data": {
      "text/plain": [
       "    eventID         mean_ch4          mean_co2      \n",
       " Min.   :  1.0   Min.   :0.01169   Min.   :0.07066  \n",
       " 1st Qu.: 79.0   1st Qu.:0.02664   1st Qu.:0.29787  \n",
       " Median :157.0   Median :0.03654   Median :0.42502  \n",
       " Mean   :157.4   Mean   :0.03617   Mean   :0.40357  \n",
       " 3rd Qu.:236.0   3rd Qu.:0.04409   3rd Qu.:0.50909  \n",
       " Max.   :314.0   Max.   :0.07130   Max.   :0.80056  "
      ]
     },
     "metadata": {},
     "output_type": "display_data"
    },
    {
     "data": {
      "text/html": [
       "<style>\n",
       ".list-inline {list-style: none; margin:0; padding: 0}\n",
       ".list-inline>li {display: inline-block}\n",
       ".list-inline>li:not(:last-child)::after {content: \"\\00b7\"; padding: 0 .5ex}\n",
       "</style>\n",
       "<ol class=list-inline><li>313</li><li>3</li></ol>\n"
      ],
      "text/latex": [
       "\\begin{enumerate*}\n",
       "\\item 313\n",
       "\\item 3\n",
       "\\end{enumerate*}\n"
      ],
      "text/markdown": [
       "1. 313\n",
       "2. 3\n",
       "\n",
       "\n"
      ],
      "text/plain": [
       "[1] 313   3"
      ]
     },
     "metadata": {},
     "output_type": "display_data"
    }
   ],
   "source": [
    "############# calculating the mean for ch4 only for 60-300 sec per visit ######## losing one event\n",
    "event_cut <- event_ch4 %>%\n",
    "  # Trim any spaces from the TimeStamp column\n",
    "  mutate(datetime = trimws(datetime)) %>%\n",
    "  # Convert TimeStamp to datetime object\n",
    "  mutate(datetime = ymd_hms(datetime)) %>%\n",
    "  group_by(eventID) %>%\n",
    "  # Calculate the time difference in seconds from the first TimeStamp per eventID\n",
    "  mutate(time_diff_sec = as.numeric(difftime(datetime, min(datetime), units = \"secs\"))) %>%\n",
    "  # Filter to keep only rows where the time difference is between 60 and 300 seconds\n",
    "  filter(time_diff_sec >= 60 & time_diff_sec <= 300) %>%\n",
    "  # Optionally, summarize the data (for example, calculating means of ch4 and co2)\n",
    "  summarise(\n",
    "    mean_ch4 = mean(ch4, na.rm = TRUE),\n",
    "    mean_co2 = mean(co2, na.rm = TRUE)\n",
    "  )\n",
    "head(event_cut)\n",
    "summary(event_cut)\n",
    "dim(event_cut)"
   ]
  },
  {
   "cell_type": "code",
   "execution_count": 13,
   "id": "eed4edc7-df65-42d7-b82a-7f0182b4395a",
   "metadata": {
    "collapsed": true,
    "jupyter": {
     "outputs_hidden": true
    }
   },
   "outputs": [
    {
     "name": "stdout",
     "output_type": "stream",
     "text": [
      " [1]  59 236  31 231 532 240 259 208  13 197 138  47 132 141  90 228 245 134 473\n",
      "[20] 185 150 146 212 233 226 227 246 195 412 117  84  81 220 224 160  21 175 153\n",
      "[39] 130 168 170  77  72 291 221  53 163 516 280 394 198  76 171 149 196 167 404\n",
      "[58]  32 218  49 302 247  58 249 206 392\n"
     ]
    }
   ],
   "source": [
    "#Printing cows numbers\n",
    "cow_ids<- unique(event_ch4$cow)\n",
    "print(cow_ids)\n"
   ]
  },
  {
   "cell_type": "code",
   "execution_count": 14,
   "id": "a03cc66a-22c7-40b8-88fc-903ec12cee72",
   "metadata": {
    "collapsed": true,
    "jupyter": {
     "outputs_hidden": true
    }
   },
   "outputs": [
    {
     "name": "stdout",
     "output_type": "stream",
     "text": [
      "[1]  43  92 138 184 227 275 313\n"
     ]
    }
   ],
   "source": [
    "#################### function to read the events of n cow ##################\n",
    "# Function to get all events of a specific cow\n",
    "get_unique_cow_event_ids <- function(cow_number) {\n",
    "  cow_events <- subset(event_ch4, cow == cow_number)\n",
    "  unique_event_ids <- unique(cow_events$eventID)\n",
    "  return(unique_event_ids)\n",
    "}\n",
    "\n",
    "cow_number <- 72\n",
    "unique_event_ids <- get_unique_cow_event_ids(cow_number)\n",
    "print(unique_event_ids)\n"
   ]
  },
  {
   "cell_type": "code",
   "execution_count": 15,
   "id": "dea8044b-29f2-4817-a3dd-dee8d4c24d45",
   "metadata": {
    "collapsed": true,
    "jupyter": {
     "outputs_hidden": true
    }
   },
   "outputs": [
    {
     "data": {
      "image/png": "[encoded data removed]",
      "text/plain": [
       "plot without title"
      ]
     },
     "metadata": {
      "image/png": {
       "height": 420,
       "width": 420
      }
     },
     "output_type": "display_data"
    }
   ],
   "source": [
    "############# lets plot an event of a cow   ####### \n",
    "\n",
    "# Choose a specific cow and event for the plot\n",
    "cow_id <- 72\n",
    "event_id <- 138\n",
    "\n",
    "plot_data <- subset(event_ch4, cow == cow_id & eventID == event_id)\n",
    "\n",
    "# Create ggplot plot\n",
    "p <- ggplot(plot_data, aes(x = datetime, y = ch4)) +\n",
    "  geom_line() +\n",
    "  geom_point() +\n",
    "  labs(title = paste(\"CH4 Time Series for Cow\", cow_id, \"in Event\", event_id),\n",
    "       x = \"Datetime\",\n",
    "       y = \"Ch4\") +\n",
    "  theme_minimal()\n",
    "\n",
    "# Explicitly print and assign a name to the plot\n",
    "print(p)\n"
   ]
  },
  {
   "cell_type": "code",
   "execution_count": 16,
   "id": "aa96b103-c09b-481d-b26d-f046b9a2e806",
   "metadata": {
    "collapsed": true,
    "jupyter": {
     "outputs_hidden": true
    }
   },
   "outputs": [
    {
     "data": {
      "text/html": [
       "<table class=\"dataframe\">\n",
       "<caption>A tibble: 6 × 2</caption>\n",
       "<thead>\n",
       "\t<tr><th scope=col>eventID</th><th scope=col>num_peaks</th></tr>\n",
       "\t<tr><th scope=col>&lt;dbl&gt;</th><th scope=col>&lt;int&gt;</th></tr>\n",
       "</thead>\n",
       "<tbody>\n",
       "\t<tr><td>1</td><td>4</td></tr>\n",
       "\t<tr><td>2</td><td>5</td></tr>\n",
       "\t<tr><td>3</td><td>5</td></tr>\n",
       "\t<tr><td>4</td><td>8</td></tr>\n",
       "\t<tr><td>5</td><td>5</td></tr>\n",
       "\t<tr><td>6</td><td>4</td></tr>\n",
       "</tbody>\n",
       "</table>\n"
      ],
      "text/latex": [
       "A tibble: 6 × 2\n",
       "\\begin{tabular}{ll}\n",
       " eventID & num\\_peaks\\\\\n",
       " <dbl> & <int>\\\\\n",
       "\\hline\n",
       "\t 1 & 4\\\\\n",
       "\t 2 & 5\\\\\n",
       "\t 3 & 5\\\\\n",
       "\t 4 & 8\\\\\n",
       "\t 5 & 5\\\\\n",
       "\t 6 & 4\\\\\n",
       "\\end{tabular}\n"
      ],
      "text/markdown": [
       "\n",
       "A tibble: 6 × 2\n",
       "\n",
       "| eventID &lt;dbl&gt; | num_peaks &lt;int&gt; |\n",
       "|---|---|\n",
       "| 1 | 4 |\n",
       "| 2 | 5 |\n",
       "| 3 | 5 |\n",
       "| 4 | 8 |\n",
       "| 5 | 5 |\n",
       "| 6 | 4 |\n",
       "\n"
      ],
      "text/plain": [
       "  eventID num_peaks\n",
       "1 1       4        \n",
       "2 2       5        \n",
       "3 3       5        \n",
       "4 4       8        \n",
       "5 5       5        \n",
       "6 6       4        "
      ]
     },
     "metadata": {},
     "output_type": "display_data"
    },
    {
     "data": {
      "text/plain": [
       "    eventID         num_peaks     \n",
       " Min.   :  1.00   Min.   : 0.000  \n",
       " 1st Qu.: 79.25   1st Qu.: 2.000  \n",
       " Median :157.50   Median : 4.000  \n",
       " Mean   :157.50   Mean   : 4.108  \n",
       " 3rd Qu.:235.75   3rd Qu.: 6.000  \n",
       " Max.   :314.00   Max.   :13.000  "
      ]
     },
     "metadata": {},
     "output_type": "display_data"
    }
   ],
   "source": [
    "# Function to detect peaks\n",
    "detectPeaks <- function(ch4, windowSize = 5, threshold = 0.0005) {\n",
    "  peaksIni <- c()\n",
    "  peaksFin <- c()\n",
    "  stage <- FALSE\n",
    "  peak_decreasing <- FALSE\n",
    "  \n",
    "  for (i in 1:(length(ch4) - windowSize)) {\n",
    "    tempW <- ch4[i:(i + windowSize - 1)]\n",
    "    tempX <- 1:windowSize\n",
    "    \n",
    "    mean_tempW <- mean(tempW, na.rm = TRUE)\n",
    "    mean_tempX <- mean(tempX, na.rm = TRUE)\n",
    "    \n",
    "    cov_xy <- sum((tempW - mean_tempW) * (tempX - mean_tempX), na.rm = TRUE)\n",
    "    var_x <- sum((tempX - mean_tempX) * (tempX - mean_tempX), na.rm = TRUE)\n",
    "    \n",
    "    pendiente <- cov_xy / var_x\n",
    "    \n",
    "    if (pendiente > threshold && !stage) {\n",
    "      peaksIni <- c(peaksIni, i)\n",
    "      stage <- TRUE\n",
    "      peak_decreasing <- FALSE\n",
    "    } else if (stage && pendiente < -threshold) {\n",
    "      peak_decreasing <- TRUE\n",
    "    } else if (stage && peak_decreasing && pendiente > -threshold / 2) {\n",
    "      peaksFin <- c(peaksFin, i)\n",
    "      stage <- FALSE\n",
    "      peak_decreasing <- FALSE\n",
    "    } else if (length(peaksIni) == 0 && pendiente > threshold / 2) {\n",
    "      # Handle case where no peaks have been detected yet\n",
    "    } else if (i == (length(ch4) - windowSize) && peak_decreasing) {\n",
    "      peaksFin <- c(peaksFin, i)\n",
    "    }\n",
    "  }\n",
    "  \n",
    "  list(peaksIni = peaksIni, peaksFin = peaksFin)\n",
    "}\n",
    "\n",
    "# Apply the peak detection to the entire database\n",
    "peak_det <- event_ch4 %>%\n",
    "  group_by(eventID) %>%\n",
    "  summarise(num_peaks = length(detectPeaks(ch4)$peaksIni))\n",
    "\n",
    "# Print the results\n",
    "head(peak_det)\n",
    "summary(peak_det)\n"
   ]
  },
  {
   "cell_type": "code",
   "execution_count": 17,
   "id": "997517c0-e41e-4a5e-bc3d-91f9754e93fb",
   "metadata": {
    "collapsed": true,
    "jupyter": {
     "outputs_hidden": true
    }
   },
   "outputs": [],
   "source": [
    "######################## EXERCISE #######################\n",
    "#1)Calculate the num of peaks per  minute\n",
    "    #HINT: Use merge, and lenght of event (visit) "
   ]
  },
  {
   "cell_type": "code",
   "execution_count": 18,
   "id": "527f07bf-0f81-4e6f-b382-820d0a740dae",
   "metadata": {
    "collapsed": true,
    "jupyter": {
     "outputs_hidden": true
    }
   },
   "outputs": [
    {
     "data": {
      "text/html": [
       "<table class=\"dataframe\">\n",
       "<caption>A tibble: 6 × 3</caption>\n",
       "<thead>\n",
       "\t<tr><th scope=col>eventID</th><th scope=col>num_peaks</th><th scope=col>sum2maxpeaks</th></tr>\n",
       "\t<tr><th scope=col>&lt;dbl&gt;</th><th scope=col>&lt;int&gt;</th><th scope=col>&lt;dbl&gt;</th></tr>\n",
       "</thead>\n",
       "<tbody>\n",
       "\t<tr><td>1</td><td>4</td><td>0.2240</td></tr>\n",
       "\t<tr><td>2</td><td>5</td><td>0.2120</td></tr>\n",
       "\t<tr><td>3</td><td>5</td><td>0.2070</td></tr>\n",
       "\t<tr><td>4</td><td>8</td><td>0.4220</td></tr>\n",
       "\t<tr><td>5</td><td>5</td><td>0.2925</td></tr>\n",
       "\t<tr><td>6</td><td>4</td><td>0.1680</td></tr>\n",
       "</tbody>\n",
       "</table>\n"
      ],
      "text/latex": [
       "A tibble: 6 × 3\n",
       "\\begin{tabular}{lll}\n",
       " eventID & num\\_peaks & sum2maxpeaks\\\\\n",
       " <dbl> & <int> & <dbl>\\\\\n",
       "\\hline\n",
       "\t 1 & 4 & 0.2240\\\\\n",
       "\t 2 & 5 & 0.2120\\\\\n",
       "\t 3 & 5 & 0.2070\\\\\n",
       "\t 4 & 8 & 0.4220\\\\\n",
       "\t 5 & 5 & 0.2925\\\\\n",
       "\t 6 & 4 & 0.1680\\\\\n",
       "\\end{tabular}\n"
      ],
      "text/markdown": [
       "\n",
       "A tibble: 6 × 3\n",
       "\n",
       "| eventID &lt;dbl&gt; | num_peaks &lt;int&gt; | sum2maxpeaks &lt;dbl&gt; |\n",
       "|---|---|---|\n",
       "| 1 | 4 | 0.2240 |\n",
       "| 2 | 5 | 0.2120 |\n",
       "| 3 | 5 | 0.2070 |\n",
       "| 4 | 8 | 0.4220 |\n",
       "| 5 | 5 | 0.2925 |\n",
       "| 6 | 4 | 0.1680 |\n",
       "\n"
      ],
      "text/plain": [
       "  eventID num_peaks sum2maxpeaks\n",
       "1 1       4         0.2240      \n",
       "2 2       5         0.2120      \n",
       "3 3       5         0.2070      \n",
       "4 4       8         0.4220      \n",
       "5 5       5         0.2925      \n",
       "6 6       4         0.1680      "
      ]
     },
     "metadata": {},
     "output_type": "display_data"
    }
   ],
   "source": [
    "# Function to detect peaks and calculate sum2maxpeaks\n",
    "detectPeaksAndSum <- function(ch4, windowSize = 5, threshold = 0.0005) {\n",
    "  peaksIni <- c()\n",
    "  peaksFin <- c()\n",
    "  stage <- FALSE\n",
    "  peak_decreasing <- FALSE\n",
    "  \n",
    "  for (i in 1:(length(ch4) - windowSize)) {\n",
    "    tempW <- ch4[i:(i + windowSize - 1)]\n",
    "    tempX <- 1:windowSize\n",
    "    \n",
    "    mean_tempW <- mean(tempW, na.rm = TRUE)\n",
    "    mean_tempX <- mean(tempX, na.rm = TRUE)\n",
    "    \n",
    "    cov_xy <- sum((tempW - mean_tempW) * (tempX - mean_tempX), na.rm = TRUE)\n",
    "    var_x <- sum((tempX - mean_tempX) * (tempX - mean_tempX), na.rm = TRUE)\n",
    "    \n",
    "    pendiente <- cov_xy / var_x\n",
    "    \n",
    "    if (pendiente > threshold && !stage) {\n",
    "      peaksIni <- c(peaksIni, i)\n",
    "      stage <- TRUE\n",
    "      peak_decreasing <- FALSE\n",
    "    } else if (stage && pendiente < -threshold) {\n",
    "      peak_decreasing <- TRUE\n",
    "    } else if (stage && peak_decreasing && pendiente > -threshold / 2) {\n",
    "      peaksFin <- c(peaksFin, i)\n",
    "      stage <- FALSE\n",
    "      peak_decreasing <- FALSE\n",
    "    } else if (length(peaksIni) == 0 && pendiente > threshold / 2) {\n",
    "      # Handle case where no peaks have been detected yet\n",
    "    } else if (i == (length(ch4) - windowSize) && peak_decreasing) {\n",
    "      peaksFin <- c(peaksFin, i)\n",
    "    }\n",
    "  }\n",
    "  \n",
    "  sum2maxpeaks <- 0\n",
    "  if (length(peaksIni) > 0 && length(peaksFin) > 0) {\n",
    "    for (j in 1:length(peaksIni)) {\n",
    "      start <- peaksIni[j]\n",
    "      end <- ifelse(j <= length(peaksFin), peaksFin[j], NA)\n",
    "      if (!is.na(end) && end > start) {\n",
    "        peak_values <- ch4[start:end]\n",
    "        max_values <- sort(peak_values, decreasing = TRUE)[1:2]\n",
    "        avg_max_values <- mean(max_values)\n",
    "        sum2maxpeaks <- sum2maxpeaks + avg_max_values\n",
    "      }\n",
    "    }\n",
    "  }\n",
    "  \n",
    "  list(peaksIni = peaksIni, peaksFin = peaksFin, sum2maxpeaks = sum2maxpeaks)\n",
    "}\n",
    "\n",
    "# Apply the peak detection to the entire database\n",
    "peak_phen <- event_ch4 %>%\n",
    "  group_by(eventID) %>%\n",
    "  summarise(\n",
    "    num_peaks = {\n",
    "      result <- detectPeaksAndSum(ch4)\n",
    "      length(result$peaksIni)\n",
    "    },\n",
    "    sum2maxpeaks = {\n",
    "      result <- detectPeaksAndSum(ch4)\n",
    "      result$sum2maxpeaks\n",
    "    }\n",
    "  )\n",
    "\n",
    "# Print the results\n",
    "head(peak_phen)"
   ]
  },
  {
   "cell_type": "code",
   "execution_count": 19,
   "id": "3b4a09a6-44ea-402d-82cc-31e257d4c5a9",
   "metadata": {
    "collapsed": true,
    "jupyter": {
     "outputs_hidden": true
    }
   },
   "outputs": [
    {
     "data": {
      "text/html": [
       "<table class=\"dataframe\">\n",
       "<caption>A tibble: 6 × 4</caption>\n",
       "<thead>\n",
       "\t<tr><th scope=col>eventID</th><th scope=col>num_peaks</th><th scope=col>sum2maxpeaks</th><th scope=col>area_under_curve</th></tr>\n",
       "\t<tr><th scope=col>&lt;dbl&gt;</th><th scope=col>&lt;int&gt;</th><th scope=col>&lt;dbl&gt;</th><th scope=col>&lt;dbl&gt;</th></tr>\n",
       "</thead>\n",
       "<tbody>\n",
       "\t<tr><td>1</td><td>4</td><td>0.2240</td><td> 4.723</td></tr>\n",
       "\t<tr><td>2</td><td>5</td><td>0.2120</td><td> 5.059</td></tr>\n",
       "\t<tr><td>3</td><td>5</td><td>0.2070</td><td> 3.295</td></tr>\n",
       "\t<tr><td>4</td><td>8</td><td>0.4220</td><td>12.961</td></tr>\n",
       "\t<tr><td>5</td><td>5</td><td>0.2925</td><td>11.385</td></tr>\n",
       "\t<tr><td>6</td><td>4</td><td>0.1680</td><td> 3.974</td></tr>\n",
       "</tbody>\n",
       "</table>\n"
      ],
      "text/latex": [
       "A tibble: 6 × 4\n",
       "\\begin{tabular}{llll}\n",
       " eventID & num\\_peaks & sum2maxpeaks & area\\_under\\_curve\\\\\n",
       " <dbl> & <int> & <dbl> & <dbl>\\\\\n",
       "\\hline\n",
       "\t 1 & 4 & 0.2240 &  4.723\\\\\n",
       "\t 2 & 5 & 0.2120 &  5.059\\\\\n",
       "\t 3 & 5 & 0.2070 &  3.295\\\\\n",
       "\t 4 & 8 & 0.4220 & 12.961\\\\\n",
       "\t 5 & 5 & 0.2925 & 11.385\\\\\n",
       "\t 6 & 4 & 0.1680 &  3.974\\\\\n",
       "\\end{tabular}\n"
      ],
      "text/markdown": [
       "\n",
       "A tibble: 6 × 4\n",
       "\n",
       "| eventID &lt;dbl&gt; | num_peaks &lt;int&gt; | sum2maxpeaks &lt;dbl&gt; | area_under_curve &lt;dbl&gt; |\n",
       "|---|---|---|---|\n",
       "| 1 | 4 | 0.2240 |  4.723 |\n",
       "| 2 | 5 | 0.2120 |  5.059 |\n",
       "| 3 | 5 | 0.2070 |  3.295 |\n",
       "| 4 | 8 | 0.4220 | 12.961 |\n",
       "| 5 | 5 | 0.2925 | 11.385 |\n",
       "| 6 | 4 | 0.1680 |  3.974 |\n",
       "\n"
      ],
      "text/plain": [
       "  eventID num_peaks sum2maxpeaks area_under_curve\n",
       "1 1       4         0.2240        4.723          \n",
       "2 2       5         0.2120        5.059          \n",
       "3 3       5         0.2070        3.295          \n",
       "4 4       8         0.4220       12.961          \n",
       "5 5       5         0.2925       11.385          \n",
       "6 6       4         0.1680        3.974          "
      ]
     },
     "metadata": {},
     "output_type": "display_data"
    }
   ],
   "source": [
    "# Function to detect peaks and calculate sum2maxpeaks and area under the curve\n",
    "detectPeaksAndSum <- function(ch4, windowSize = 5, threshold = 0.0005) {\n",
    "  peaksIni <- c()\n",
    "  peaksFin <- c()\n",
    "  stage <- FALSE\n",
    "  peak_decreasing <- FALSE\n",
    "  \n",
    "  for (i in 1:(length(ch4) - windowSize)) {\n",
    "    tempW <- ch4[i:(i + windowSize - 1)]\n",
    "    tempX <- 1:windowSize\n",
    "    \n",
    "    mean_tempW <- mean(tempW, na.rm = TRUE)\n",
    "    mean_tempX <- mean(tempX, na.rm = TRUE)\n",
    "    \n",
    "    cov_xy <- sum((tempW - mean_tempW) * (tempX - mean_tempX), na.rm = TRUE)\n",
    "    var_x <- sum((tempX - mean_tempX) * (tempX - mean_tempX), na.rm = TRUE)\n",
    "    \n",
    "    pendiente <- cov_xy / var_x\n",
    "    \n",
    "    if (pendiente > threshold && !stage) {\n",
    "      peaksIni <- c(peaksIni, i)\n",
    "      stage <- TRUE\n",
    "      peak_decreasing <- FALSE\n",
    "    } else if (stage && pendiente < -threshold) {\n",
    "      peak_decreasing <- TRUE\n",
    "    } else if (stage && peak_decreasing && pendiente > -threshold / 2) {\n",
    "      peaksFin <- c(peaksFin, i)\n",
    "      stage <- FALSE\n",
    "      peak_decreasing <- FALSE\n",
    "    } else if (length(peaksIni) == 0 && pendiente > threshold / 2) {\n",
    "      # Handle case where no peaks have been detected yet\n",
    "    } else if (i == (length(ch4) - windowSize) && peak_decreasing) {\n",
    "      peaksFin <- c(peaksFin, i)\n",
    "    }\n",
    "  }\n",
    "  \n",
    "  sum2maxpeaks <- 0\n",
    "  area_under_curve <- 0\n",
    "  if (length(peaksIni) > 0 && length(peaksFin) > 0) {\n",
    "    for (j in 1:length(peaksIni)) {\n",
    "      start <- peaksIni[j]\n",
    "      end <- ifelse(j <= length(peaksFin), peaksFin[j], NA)\n",
    "      if (!is.na(end) && end > start) {\n",
    "        peak_values <- ch4[start:end]\n",
    "        max_values <- sort(peak_values, decreasing = TRUE)[1:2]\n",
    "        avg_max_values <- mean(max_values)\n",
    "        sum2maxpeaks <- sum2maxpeaks + avg_max_values\n",
    "        \n",
    "        # Calculate area under the curve above ground level (assumed to be the minimum value in ch4)\n",
    "        ground_level <- min(ch4)\n",
    "        area_under_curve <- area_under_curve + sum(peak_values - ground_level)\n",
    "      }\n",
    "    }\n",
    "  }\n",
    "  \n",
    "  list(peaksIni = peaksIni, peaksFin = peaksFin, sum2maxpeaks = sum2maxpeaks, area_under_curve = area_under_curve)\n",
    "}\n",
    "\n",
    "# Apply the peak detection to the entire database\n",
    "AUC <- event_ch4 %>%\n",
    "  group_by(eventID) %>%\n",
    "  summarise(\n",
    "    num_peaks = {\n",
    "      result <- detectPeaksAndSum(ch4)\n",
    "      length(result$peaksIni)\n",
    "    },\n",
    "    sum2maxpeaks = {\n",
    "      result <- detectPeaksAndSum(ch4)\n",
    "      result$sum2maxpeaks\n",
    "    },\n",
    "    area_under_curve = {\n",
    "      result <- detectPeaksAndSum(ch4)\n",
    "      result$area_under_curve\n",
    "    }\n",
    "  )\n",
    "\n",
    "# Print the results\n",
    "head(AUC)"
   ]
  },
  {
   "cell_type": "code",
   "execution_count": 20,
   "id": "d9703862-1499-48dc-9fd9-8c351128dadf",
   "metadata": {
    "collapsed": true,
    "jupyter": {
     "outputs_hidden": true
    }
   },
   "outputs": [
    {
     "data": {
      "text/html": [
       "<table class=\"dataframe\">\n",
       "<caption>A tibble: 6 × 4</caption>\n",
       "<thead>\n",
       "\t<tr><th scope=col>eventID</th><th scope=col>num_peaks</th><th scope=col>sum2maxpeaks</th><th scope=col>area_under_curve</th></tr>\n",
       "\t<tr><th scope=col>&lt;dbl&gt;</th><th scope=col>&lt;int&gt;</th><th scope=col>&lt;dbl&gt;</th><th scope=col>&lt;dbl&gt;</th></tr>\n",
       "</thead>\n",
       "<tbody>\n",
       "\t<tr><td>1</td><td>3</td><td>0.088</td><td>0.994</td></tr>\n",
       "\t<tr><td>2</td><td>4</td><td>0.146</td><td>2.317</td></tr>\n",
       "\t<tr><td>3</td><td>5</td><td>0.207</td><td>3.295</td></tr>\n",
       "\t<tr><td>4</td><td>4</td><td>0.160</td><td>1.830</td></tr>\n",
       "\t<tr><td>5</td><td>3</td><td>0.110</td><td>3.092</td></tr>\n",
       "\t<tr><td>6</td><td>3</td><td>0.114</td><td>2.690</td></tr>\n",
       "</tbody>\n",
       "</table>\n"
      ],
      "text/latex": [
       "A tibble: 6 × 4\n",
       "\\begin{tabular}{llll}\n",
       " eventID & num\\_peaks & sum2maxpeaks & area\\_under\\_curve\\\\\n",
       " <dbl> & <int> & <dbl> & <dbl>\\\\\n",
       "\\hline\n",
       "\t 1 & 3 & 0.088 & 0.994\\\\\n",
       "\t 2 & 4 & 0.146 & 2.317\\\\\n",
       "\t 3 & 5 & 0.207 & 3.295\\\\\n",
       "\t 4 & 4 & 0.160 & 1.830\\\\\n",
       "\t 5 & 3 & 0.110 & 3.092\\\\\n",
       "\t 6 & 3 & 0.114 & 2.690\\\\\n",
       "\\end{tabular}\n"
      ],
      "text/markdown": [
       "\n",
       "A tibble: 6 × 4\n",
       "\n",
       "| eventID &lt;dbl&gt; | num_peaks &lt;int&gt; | sum2maxpeaks &lt;dbl&gt; | area_under_curve &lt;dbl&gt; |\n",
       "|---|---|---|---|\n",
       "| 1 | 3 | 0.088 | 0.994 |\n",
       "| 2 | 4 | 0.146 | 2.317 |\n",
       "| 3 | 5 | 0.207 | 3.295 |\n",
       "| 4 | 4 | 0.160 | 1.830 |\n",
       "| 5 | 3 | 0.110 | 3.092 |\n",
       "| 6 | 3 | 0.114 | 2.690 |\n",
       "\n"
      ],
      "text/plain": [
       "  eventID num_peaks sum2maxpeaks area_under_curve\n",
       "1 1       3         0.088        0.994           \n",
       "2 2       4         0.146        2.317           \n",
       "3 3       5         0.207        3.295           \n",
       "4 4       4         0.160        1.830           \n",
       "5 5       3         0.110        3.092           \n",
       "6 6       3         0.114        2.690           "
      ]
     },
     "metadata": {},
     "output_type": "display_data"
    },
    {
     "data": {
      "text/html": [
       "<style>\n",
       ".list-inline {list-style: none; margin:0; padding: 0}\n",
       ".list-inline>li {display: inline-block}\n",
       ".list-inline>li:not(:last-child)::after {content: \"\\00b7\"; padding: 0 .5ex}\n",
       "</style>\n",
       "<ol class=list-inline><li>314</li><li>4</li></ol>\n"
      ],
      "text/latex": [
       "\\begin{enumerate*}\n",
       "\\item 314\n",
       "\\item 4\n",
       "\\end{enumerate*}\n"
      ],
      "text/markdown": [
       "1. 314\n",
       "2. 4\n",
       "\n",
       "\n"
      ],
      "text/plain": [
       "[1] 314   4"
      ]
     },
     "metadata": {},
     "output_type": "display_data"
    }
   ],
   "source": [
    "############################### now for the 'cut' visit ###########################\n",
    "\n",
    "# Calculate the time difference in seconds from the first TimeStamp per eventID\n",
    "event_ch42<- event_ch4 %>%\n",
    "  group_by(eventID) %>%\n",
    "  mutate(time_diff_sec = as.numeric(difftime(datetime, min(datetime), units = \"secs\"))) %>%\n",
    "  ungroup()\n",
    "\n",
    "# Function to detect peaks and calculate sum2maxpeaks and area under the curve\n",
    "detectPeaksAndSum <- function(ch4, windowSize = 5, threshold = 0.0005) {\n",
    "  peaksIni <- c()\n",
    "  peaksFin <- c()\n",
    "  stage <- FALSE\n",
    "  peak_decreasing <- FALSE\n",
    "  \n",
    "  for (i in 1:(length(ch4) - windowSize)) {\n",
    "    tempW <- ch4[i:(i + windowSize - 1)]\n",
    "    tempX <- 1:windowSize\n",
    "    \n",
    "    mean_tempW <- mean(tempW, na.rm = TRUE)\n",
    "    mean_tempX <- mean(tempX, na.rm = TRUE)\n",
    "    \n",
    "    cov_xy <- sum((tempW - mean_tempW) * (tempX - mean_tempX), na.rm = TRUE)\n",
    "    var_x <- sum((tempX - mean_tempX) * (tempX - mean_tempX), na.rm = TRUE)\n",
    "    \n",
    "    pendiente <- cov_xy / var_x\n",
    "    \n",
    "    if (pendiente > threshold && !stage) {\n",
    "      peaksIni <- c(peaksIni, i)\n",
    "      stage <- TRUE\n",
    "      peak_decreasing <- FALSE\n",
    "    } else if (stage && pendiente < -threshold) {\n",
    "      peak_decreasing <- TRUE\n",
    "    } else if (stage && peak_decreasing && pendiente > -threshold / 2) {\n",
    "      peaksFin <- c(peaksFin, i)\n",
    "      stage <- FALSE\n",
    "      peak_decreasing <- FALSE\n",
    "    } else if (length(peaksIni) == 0 && pendiente > threshold / 2) {\n",
    "      # Handle case where no peaks have been detected yet\n",
    "    } else if (i == (length(ch4) - windowSize) && peak_decreasing) {\n",
    "      peaksFin <- c(peaksFin, i)\n",
    "    }\n",
    "  }\n",
    "  \n",
    "  sum2maxpeaks <- 0\n",
    "  area_under_curve <- 0\n",
    "  if (length(peaksIni) > 0 && length(peaksFin) > 0) {\n",
    "    for (j in 1:length(peaksIni)) {\n",
    "      start <- peaksIni[j]\n",
    "      end <- ifelse(j <= length(peaksFin), peaksFin[j], NA)\n",
    "      if (!is.na(end) && end > start) {\n",
    "        peak_values <- ch4[start:end]\n",
    "        max_values <- sort(peak_values, decreasing = TRUE)[1:2]\n",
    "        avg_max_values <- mean(max_values)\n",
    "        sum2maxpeaks <- sum2maxpeaks + avg_max_values\n",
    "        \n",
    "        # Calculate area under the curve above ground level (assumed to be the minimum value in ch4)\n",
    "        ground_level <- min(ch4)\n",
    "        area_under_curve <- area_under_curve + sum(peak_values - ground_level)\n",
    "      }\n",
    "    }\n",
    "  }\n",
    "  \n",
    "  list(peaksIni = peaksIni, peaksFin = peaksFin, sum2maxpeaks = sum2maxpeaks, area_under_curve = area_under_curve)\n",
    "}\n",
    "\n",
    "# Apply the peak detection to the entire database, considering only data between 60 sec to 300 sec per eventID\n",
    "peak_phen2 <- event_ch42 %>%\n",
    "  filter(time_diff_sec >= 60 & time_diff_sec <= 300) %>%\n",
    "  group_by(eventID) %>%\n",
    "  summarise(\n",
    "    num_peaks = {\n",
    "      result <- detectPeaksAndSum(ch4)\n",
    "      length(result$peaksIni)\n",
    "    },\n",
    "    sum2maxpeaks = {\n",
    "      result <- detectPeaksAndSum(ch4)\n",
    "      result$sum2maxpeaks\n",
    "    },\n",
    "    area_under_curve = {\n",
    "      result <- detectPeaksAndSum(ch4)\n",
    "      result$area_under_curve\n",
    "    }\n",
    "  )\n",
    "\n",
    "# Print the results\n",
    "head(peak_phen2)\n",
    "dim(peak_phen2)"
   ]
  },
  {
   "cell_type": "code",
   "execution_count": 21,
   "id": "857472f4-68c5-4d39-a044-e56c4b89eea9",
   "metadata": {
    "collapsed": true,
    "jupyter": {
     "outputs_hidden": true
    }
   },
   "outputs": [
    {
     "data": {
      "text/html": [
       "<table class=\"dataframe\">\n",
       "<caption>A tibble: 6 × 5</caption>\n",
       "<thead>\n",
       "\t<tr><th scope=col>eventID</th><th scope=col>num_peaks</th><th scope=col>sum2maxpeaks</th><th scope=col>area_under_curve</th><th scope=col>avg_moving_avg_ch4</th></tr>\n",
       "\t<tr><th scope=col>&lt;dbl&gt;</th><th scope=col>&lt;int&gt;</th><th scope=col>&lt;dbl&gt;</th><th scope=col>&lt;dbl&gt;</th><th scope=col>&lt;dbl&gt;</th></tr>\n",
       "</thead>\n",
       "<tbody>\n",
       "\t<tr><td>1</td><td>3</td><td>0.088</td><td>0.994</td><td>0.04282543</td></tr>\n",
       "\t<tr><td>2</td><td>4</td><td>0.146</td><td>2.317</td><td>0.04315560</td></tr>\n",
       "\t<tr><td>3</td><td>5</td><td>0.207</td><td>3.295</td><td>0.04170783</td></tr>\n",
       "\t<tr><td>4</td><td>4</td><td>0.160</td><td>1.830</td><td>0.04552284</td></tr>\n",
       "\t<tr><td>5</td><td>3</td><td>0.110</td><td>3.092</td><td>0.04667543</td></tr>\n",
       "\t<tr><td>6</td><td>3</td><td>0.114</td><td>2.690</td><td>0.04372500</td></tr>\n",
       "</tbody>\n",
       "</table>\n"
      ],
      "text/latex": [
       "A tibble: 6 × 5\n",
       "\\begin{tabular}{lllll}\n",
       " eventID & num\\_peaks & sum2maxpeaks & area\\_under\\_curve & avg\\_moving\\_avg\\_ch4\\\\\n",
       " <dbl> & <int> & <dbl> & <dbl> & <dbl>\\\\\n",
       "\\hline\n",
       "\t 1 & 3 & 0.088 & 0.994 & 0.04282543\\\\\n",
       "\t 2 & 4 & 0.146 & 2.317 & 0.04315560\\\\\n",
       "\t 3 & 5 & 0.207 & 3.295 & 0.04170783\\\\\n",
       "\t 4 & 4 & 0.160 & 1.830 & 0.04552284\\\\\n",
       "\t 5 & 3 & 0.110 & 3.092 & 0.04667543\\\\\n",
       "\t 6 & 3 & 0.114 & 2.690 & 0.04372500\\\\\n",
       "\\end{tabular}\n"
      ],
      "text/markdown": [
       "\n",
       "A tibble: 6 × 5\n",
       "\n",
       "| eventID &lt;dbl&gt; | num_peaks &lt;int&gt; | sum2maxpeaks &lt;dbl&gt; | area_under_curve &lt;dbl&gt; | avg_moving_avg_ch4 &lt;dbl&gt; |\n",
       "|---|---|---|---|---|\n",
       "| 1 | 3 | 0.088 | 0.994 | 0.04282543 |\n",
       "| 2 | 4 | 0.146 | 2.317 | 0.04315560 |\n",
       "| 3 | 5 | 0.207 | 3.295 | 0.04170783 |\n",
       "| 4 | 4 | 0.160 | 1.830 | 0.04552284 |\n",
       "| 5 | 3 | 0.110 | 3.092 | 0.04667543 |\n",
       "| 6 | 3 | 0.114 | 2.690 | 0.04372500 |\n",
       "\n"
      ],
      "text/plain": [
       "  eventID num_peaks sum2maxpeaks area_under_curve avg_moving_avg_ch4\n",
       "1 1       3         0.088        0.994            0.04282543        \n",
       "2 2       4         0.146        2.317            0.04315560        \n",
       "3 3       5         0.207        3.295            0.04170783        \n",
       "4 4       4         0.160        1.830            0.04552284        \n",
       "5 5       3         0.110        3.092            0.04667543        \n",
       "6 6       3         0.114        2.690            0.04372500        "
      ]
     },
     "metadata": {},
     "output_type": "display_data"
    },
    {
     "data": {
      "text/html": [
       "<style>\n",
       ".list-inline {list-style: none; margin:0; padding: 0}\n",
       ".list-inline>li {display: inline-block}\n",
       ".list-inline>li:not(:last-child)::after {content: \"\\00b7\"; padding: 0 .5ex}\n",
       "</style>\n",
       "<ol class=list-inline><li>314</li><li>5</li></ol>\n"
      ],
      "text/latex": [
       "\\begin{enumerate*}\n",
       "\\item 314\n",
       "\\item 5\n",
       "\\end{enumerate*}\n"
      ],
      "text/markdown": [
       "1. 314\n",
       "2. 5\n",
       "\n",
       "\n"
      ],
      "text/plain": [
       "[1] 314   5"
      ]
     },
     "metadata": {},
     "output_type": "display_data"
    }
   ],
   "source": [
    "#Adding moving average, play with the window sizes\n",
    "detectPeaksAndSum <- function(ch4, windowSize = 5, threshold = 0.0005) {\n",
    "  peaksIni <- c()\n",
    "  peaksFin <- c()\n",
    "  stage <- FALSE\n",
    "  peak_decreasing <- FALSE\n",
    "  \n",
    "  for (i in 1:(length(ch4) - windowSize)) {\n",
    "    tempW <- ch4[i:(i + windowSize - 1)]\n",
    "    tempX <- 1:windowSize\n",
    "    \n",
    "    mean_tempW <- mean(tempW, na.rm = TRUE)\n",
    "    mean_tempX <- mean(tempX, na.rm = TRUE)\n",
    "    \n",
    "    cov_xy <- sum((tempW - mean_tempW) * (tempX - mean_tempX), na.rm = TRUE)\n",
    "    var_x <- sum((tempX - mean_tempX) * (tempX - mean_tempX), na.rm = TRUE)\n",
    "    \n",
    "    pendiente <- cov_xy / var_x\n",
    "    \n",
    "    if (pendiente > threshold && !stage) {\n",
    "      peaksIni <- c(peaksIni, i)\n",
    "      stage <- TRUE\n",
    "      peak_decreasing <- FALSE\n",
    "    } else if (stage && pendiente < -threshold) {\n",
    "      peak_decreasing <- TRUE\n",
    "    } else if (stage && peak_decreasing && pendiente > -threshold / 2) {\n",
    "      peaksFin <- c(peaksFin, i)\n",
    "      stage <- FALSE\n",
    "      peak_decreasing <- FALSE\n",
    "    } else if (length(peaksIni) == 0 && pendiente > threshold / 2) {\n",
    "      # Handle case where no peaks have been detected yet\n",
    "    } else if (i == (length(ch4) - windowSize) && peak_decreasing) {\n",
    "      peaksFin <- c(peaksFin, i)\n",
    "    }\n",
    "  }\n",
    "  \n",
    "  sum2maxpeaks <- 0\n",
    "  area_under_curve <- 0\n",
    "  if (length(peaksIni) > 0 && length(peaksFin) > 0) {\n",
    "    for (j in 1:length(peaksIni)) {\n",
    "      start <- peaksIni[j]\n",
    "      end <- ifelse(j <= length(peaksFin), peaksFin[j], NA)\n",
    "      if (!is.na(end) && end > start) {\n",
    "        peak_values <- ch4[start:end]\n",
    "        max_values <- sort(peak_values, decreasing = TRUE)[1:2]\n",
    "        avg_max_values <- mean(max_values)\n",
    "        sum2maxpeaks <- sum2maxpeaks + avg_max_values\n",
    "        \n",
    "        # Calculate area under the curve above ground level (assumed to be the minimum value in ch4)\n",
    "        ground_level <- min(ch4)\n",
    "        area_under_curve <- area_under_curve + sum(peak_values - ground_level)\n",
    "      }\n",
    "    }\n",
    "  }\n",
    "  \n",
    "  list(peaksIni = peaksIni, peaksFin = peaksFin, sum2maxpeaks = sum2maxpeaks, area_under_curve = area_under_curve)\n",
    "}\n",
    "\n",
    "# Function to calculate the average of the moving average of CH4 values\n",
    "calculate_moving_avg <- function(ch4, window_size) {\n",
    "  moving_avg <- rollmean(ch4, k = window_size, fill = NA)\n",
    "  mean(moving_avg, na.rm = TRUE)\n",
    "}\n",
    "\n",
    "# Apply the peak detection to the entire database, considering only data between 60 sec to 300 sec per eventID\n",
    "all_phen <- event_ch42 %>%\n",
    "  filter(time_diff_sec >= 60 & time_diff_sec <= 300) %>%\n",
    "  group_by(eventID) %>%\n",
    "  summarise(\n",
    "    num_peaks = {\n",
    "      result <- detectPeaksAndSum(ch4)\n",
    "      length(result$peaksIni)\n",
    "    },\n",
    "    sum2maxpeaks = {\n",
    "      result <- detectPeaksAndSum(ch4)\n",
    "      result$sum2maxpeaks\n",
    "    },\n",
    "    area_under_curve = {\n",
    "      result <- detectPeaksAndSum(ch4)\n",
    "      result$area_under_curve\n",
    "    },\n",
    "    avg_moving_avg_ch4 = calculate_moving_avg(ch4, window_size = 10) # Change window_size as needed\n",
    "  )\n",
    "\n",
    "# Print the results\n",
    "head(all_phen)\n",
    "dim(all_phen)"
   ]
  },
  {
   "cell_type": "code",
   "execution_count": 35,
   "id": "d200e0b2-a1c5-4320-b995-90491b80639f",
   "metadata": {
    "collapsed": true,
    "jupyter": {
     "outputs_hidden": true
    }
   },
   "outputs": [
    {
     "data": {
      "text/html": [
       "<table class=\"dataframe\">\n",
       "<caption>A data.frame: 6 × 3</caption>\n",
       "<thead>\n",
       "\t<tr><th></th><th scope=col>eventID</th><th scope=col>avg_ch4</th><th scope=col>ch4_quantile_0_001</th></tr>\n",
       "\t<tr><th></th><th scope=col>&lt;dbl&gt;</th><th scope=col>&lt;dbl&gt;</th><th scope=col>&lt;dbl&gt;</th></tr>\n",
       "</thead>\n",
       "<tbody>\n",
       "\t<tr><th scope=row>1</th><td>1</td><td>0.0232</td><td>0.023</td></tr>\n",
       "\t<tr><th scope=row>2</th><td>2</td><td>0.0252</td><td>0.025</td></tr>\n",
       "\t<tr><th scope=row>3</th><td>3</td><td>0.0240</td><td>0.024</td></tr>\n",
       "\t<tr><th scope=row>4</th><td>4</td><td>0.0180</td><td>0.018</td></tr>\n",
       "\t<tr><th scope=row>5</th><td>5</td><td>0.0190</td><td>0.019</td></tr>\n",
       "\t<tr><th scope=row>6</th><td>6</td><td>0.0260</td><td>0.026</td></tr>\n",
       "</tbody>\n",
       "</table>\n"
      ],
      "text/latex": [
       "A data.frame: 6 × 3\n",
       "\\begin{tabular}{r|lll}\n",
       "  & eventID & avg\\_ch4 & ch4\\_quantile\\_0\\_001\\\\\n",
       "  & <dbl> & <dbl> & <dbl>\\\\\n",
       "\\hline\n",
       "\t1 & 1 & 0.0232 & 0.023\\\\\n",
       "\t2 & 2 & 0.0252 & 0.025\\\\\n",
       "\t3 & 3 & 0.0240 & 0.024\\\\\n",
       "\t4 & 4 & 0.0180 & 0.018\\\\\n",
       "\t5 & 5 & 0.0190 & 0.019\\\\\n",
       "\t6 & 6 & 0.0260 & 0.026\\\\\n",
       "\\end{tabular}\n"
      ],
      "text/markdown": [
       "\n",
       "A data.frame: 6 × 3\n",
       "\n",
       "| <!--/--> | eventID &lt;dbl&gt; | avg_ch4 &lt;dbl&gt; | ch4_quantile_0_001 &lt;dbl&gt; |\n",
       "|---|---|---|---|\n",
       "| 1 | 1 | 0.0232 | 0.023 |\n",
       "| 2 | 2 | 0.0252 | 0.025 |\n",
       "| 3 | 3 | 0.0240 | 0.024 |\n",
       "| 4 | 4 | 0.0180 | 0.018 |\n",
       "| 5 | 5 | 0.0190 | 0.019 |\n",
       "| 6 | 6 | 0.0260 | 0.026 |\n",
       "\n"
      ],
      "text/plain": [
       "  eventID avg_ch4 ch4_quantile_0_001\n",
       "1 1       0.0232  0.023             \n",
       "2 2       0.0252  0.025             \n",
       "3 3       0.0240  0.024             \n",
       "4 4       0.0180  0.018             \n",
       "5 5       0.0190  0.019             \n",
       "6 6       0.0260  0.026             "
      ]
     },
     "metadata": {},
     "output_type": "display_data"
    },
    {
     "data": {
      "text/html": [
       "<table class=\"dataframe\">\n",
       "<caption>A tibble: 6 × 3</caption>\n",
       "<thead>\n",
       "\t<tr><th scope=col>eventID</th><th scope=col>avg_ch4.x</th><th scope=col>avg_ch4.y</th></tr>\n",
       "\t<tr><th scope=col>&lt;dbl&gt;</th><th scope=col>&lt;dbl&gt;</th><th scope=col>&lt;dbl&gt;</th></tr>\n",
       "</thead>\n",
       "<tbody>\n",
       "\t<tr><td>1</td><td>0.0232</td><td>0.023</td></tr>\n",
       "\t<tr><td>2</td><td>0.0252</td><td>0.025</td></tr>\n",
       "\t<tr><td>3</td><td>0.0240</td><td>0.024</td></tr>\n",
       "\t<tr><td>4</td><td>0.0180</td><td>0.018</td></tr>\n",
       "\t<tr><td>5</td><td>0.0190</td><td>0.019</td></tr>\n",
       "\t<tr><td>6</td><td>0.0260</td><td>0.026</td></tr>\n",
       "</tbody>\n",
       "</table>\n"
      ],
      "text/latex": [
       "A tibble: 6 × 3\n",
       "\\begin{tabular}{lll}\n",
       " eventID & avg\\_ch4.x & avg\\_ch4.y\\\\\n",
       " <dbl> & <dbl> & <dbl>\\\\\n",
       "\\hline\n",
       "\t 1 & 0.0232 & 0.023\\\\\n",
       "\t 2 & 0.0252 & 0.025\\\\\n",
       "\t 3 & 0.0240 & 0.024\\\\\n",
       "\t 4 & 0.0180 & 0.018\\\\\n",
       "\t 5 & 0.0190 & 0.019\\\\\n",
       "\t 6 & 0.0260 & 0.026\\\\\n",
       "\\end{tabular}\n"
      ],
      "text/markdown": [
       "\n",
       "A tibble: 6 × 3\n",
       "\n",
       "| eventID &lt;dbl&gt; | avg_ch4.x &lt;dbl&gt; | avg_ch4.y &lt;dbl&gt; |\n",
       "|---|---|---|\n",
       "| 1 | 0.0232 | 0.023 |\n",
       "| 2 | 0.0252 | 0.025 |\n",
       "| 3 | 0.0240 | 0.024 |\n",
       "| 4 | 0.0180 | 0.018 |\n",
       "| 5 | 0.0190 | 0.019 |\n",
       "| 6 | 0.0260 | 0.026 |\n",
       "\n"
      ],
      "text/plain": [
       "  eventID avg_ch4.x avg_ch4.y\n",
       "1 1       0.0232    0.023    \n",
       "2 2       0.0252    0.025    \n",
       "3 3       0.0240    0.024    \n",
       "4 4       0.0180    0.018    \n",
       "5 5       0.0190    0.019    \n",
       "6 6       0.0260    0.026    "
      ]
     },
     "metadata": {},
     "output_type": "display_data"
    },
    {
     "data": {
      "text/html": [
       "0.993422761220704"
      ],
      "text/latex": [
       "0.993422761220704"
      ],
      "text/markdown": [
       "0.993422761220704"
      ],
      "text/plain": [
       "[1] 0.9934228"
      ]
     },
     "metadata": {},
     "output_type": "display_data"
    },
    {
     "data": {
      "text/html": [
       "0.899966260669485"
      ],
      "text/latex": [
       "0.899966260669485"
      ],
      "text/markdown": [
       "0.899966260669485"
      ],
      "text/plain": [
       "[1] 0.8999663"
      ]
     },
     "metadata": {},
     "output_type": "display_data"
    }
   ],
   "source": [
    "#calculate all the phenotypes with cut and not cut and calculate correlations among the phenotypes\n",
    "#HINT1: use merge or join\n",
    "merged<- merge(event_5low, event_quant, by=\"eventID\")\n",
    "head(merged)\n",
    "merged2<- left_join(event_5low, event_3low, by=\"eventID\")\n",
    "head(merged2)\n",
    "#HINT2: use cor and choose the method kendall, spearman or pearson\n",
    "cor(event_5low$avg_ch4, event_3low$avg_ch4, method=\"kendall\", use=\"complete.obs\")\n",
    "cor(event_means$mean_ch4, event_means$mean_co2, method=\"pearson\", use=\"complete.obs\")"
   ]
  },
  {
   "cell_type": "code",
   "execution_count": null,
   "id": "aa936905-93eb-44d1-bd43-e5aa5aacc54c",
   "metadata": {
    "collapsed": true,
    "jupyter": {
     "outputs_hidden": true
    }
   },
   "outputs": [],
   "source": []
  }
 ],
 "metadata": {
  "kernelspec": {
   "display_name": "R 4.3.1",
   "language": "R",
   "name": "r4.3.1"
  },
  "language_info": {
   "codemirror_mode": "r",
   "file_extension": ".r",
   "mimetype": "text/x-r-source",
   "name": "R",
   "pygments_lexer": "r",
   "version": "4.3.1"
  }
 },
 "nbformat": 4,
 "nbformat_minor": 5
}
